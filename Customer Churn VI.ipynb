{
 "cells": [
  {
   "cell_type": "markdown",
   "id": "dd11ae0e",
   "metadata": {},
   "source": [
    "# Importing Necessary Libraries"
   ]
  },
  {
   "cell_type": "code",
   "execution_count": 110,
   "id": "8635d1c4",
   "metadata": {},
   "outputs": [],
   "source": [
    "import pandas as pd\n",
    "import numpy as np\n",
    "import matplotlib.pyplot as plt\n",
    "import seaborn as sns\n",
    "from scipy import stats\n",
    "\n",
    "from datetime import date\n",
    "# ML libraries\n",
    "from sklearn.linear_model import LinearRegression\n",
    "from sklearn.model_selection import train_test_split\n",
    "\n",
    "from scipy.stats import skew\n",
    "\n",
    "from datetime import datetime\n",
    "\n",
    "# Import label encoder \n",
    "from sklearn import preprocessing\n",
    "\n",
    "# SVM\n",
    "from sklearn.model_selection import cross_val_score, KFold\n",
    "from sklearn.svm import SVC\n",
    "\n",
    "# logistic Regression\n",
    "from sklearn.linear_model import LogisticRegression\n",
    "from sklearn.model_selection import train_test_split\n",
    "from sklearn.metrics import accuracy_score\n",
    "\n",
    "from sklearn.metrics import accuracy_score, confusion_matrix, classification_report\n",
    "\n",
    "from sklearn import tree\n",
    "from sklearn.tree import DecisionTreeClassifier\n",
    "\n",
    "from sklearn.metrics import precision_score\n",
    "from sklearn.metrics import recall_score\n",
    "\n",
    "# Random forest\n",
    "from sklearn.ensemble import RandomForestClassifier  \n",
    "\n",
    "\n",
    "# scaling features\n",
    "from sklearn.preprocessing import StandardScaler  \n",
    "from sklearn.preprocessing import MinMaxScaler\n",
    "\n",
    "# knn\n",
    "from sklearn.neighbors import KNeighborsClassifier  \n",
    "import math\n",
    "\n",
    "from sklearn.metrics import classification_report,confusion_matrix,roc_curve,auc"
   ]
  },
  {
   "cell_type": "markdown",
   "id": "22b2230f",
   "metadata": {},
   "source": [
    "# Importing the data"
   ]
  },
  {
   "cell_type": "code",
   "execution_count": 2,
   "id": "c927073f",
   "metadata": {},
   "outputs": [],
   "source": [
    "data = pd.read_csv('churn_incorporation.csv')"
   ]
  },
  {
   "cell_type": "code",
   "execution_count": 3,
   "id": "8c3666fd",
   "metadata": {},
   "outputs": [
    {
     "data": {
      "text/html": [
       "<div>\n",
       "<style scoped>\n",
       "    .dataframe tbody tr th:only-of-type {\n",
       "        vertical-align: middle;\n",
       "    }\n",
       "\n",
       "    .dataframe tbody tr th {\n",
       "        vertical-align: top;\n",
       "    }\n",
       "\n",
       "    .dataframe thead th {\n",
       "        text-align: right;\n",
       "    }\n",
       "</style>\n",
       "<table border=\"1\" class=\"dataframe\">\n",
       "  <thead>\n",
       "    <tr style=\"text-align: right;\">\n",
       "      <th></th>\n",
       "      <th>Customer_ID</th>\n",
       "      <th>Gender</th>\n",
       "      <th>Age</th>\n",
       "      <th>Lifetime_data_usage</th>\n",
       "      <th>Date_of_registration</th>\n",
       "      <th>Churn_date</th>\n",
       "      <th>Churn</th>\n",
       "      <th>Lifetime_money_spent</th>\n",
       "      <th>Plans_switch</th>\n",
       "      <th>Dependents</th>\n",
       "      <th>Plan_type</th>\n",
       "      <th>last_plan_used</th>\n",
       "    </tr>\n",
       "  </thead>\n",
       "  <tbody>\n",
       "    <tr>\n",
       "      <th>0</th>\n",
       "      <td>81076390601</td>\n",
       "      <td>female</td>\n",
       "      <td>57</td>\n",
       "      <td>5616</td>\n",
       "      <td>31-08-2018</td>\n",
       "      <td>NaN</td>\n",
       "      <td>0</td>\n",
       "      <td>31837</td>\n",
       "      <td>2</td>\n",
       "      <td>1</td>\n",
       "      <td>Postpaid</td>\n",
       "      <td>27</td>\n",
       "    </tr>\n",
       "    <tr>\n",
       "      <th>1</th>\n",
       "      <td>53297743644</td>\n",
       "      <td>female</td>\n",
       "      <td>38</td>\n",
       "      <td>3700</td>\n",
       "      <td>31-08-2018</td>\n",
       "      <td>03-05-2023</td>\n",
       "      <td>1</td>\n",
       "      <td>26854</td>\n",
       "      <td>2</td>\n",
       "      <td>1</td>\n",
       "      <td>Postpaid</td>\n",
       "      <td>27</td>\n",
       "    </tr>\n",
       "    <tr>\n",
       "      <th>2</th>\n",
       "      <td>56864064722</td>\n",
       "      <td>male</td>\n",
       "      <td>40</td>\n",
       "      <td>4368</td>\n",
       "      <td>31-08-2018</td>\n",
       "      <td>NaN</td>\n",
       "      <td>0</td>\n",
       "      <td>25148</td>\n",
       "      <td>2</td>\n",
       "      <td>1</td>\n",
       "      <td>Prepaid</td>\n",
       "      <td>24</td>\n",
       "    </tr>\n",
       "    <tr>\n",
       "      <th>3</th>\n",
       "      <td>21358509485</td>\n",
       "      <td>male</td>\n",
       "      <td>39</td>\n",
       "      <td>1684</td>\n",
       "      <td>31-08-2018</td>\n",
       "      <td>14-12-2020</td>\n",
       "      <td>1</td>\n",
       "      <td>9226</td>\n",
       "      <td>2</td>\n",
       "      <td>1</td>\n",
       "      <td>Prepaid</td>\n",
       "      <td>22</td>\n",
       "    </tr>\n",
       "    <tr>\n",
       "      <th>4</th>\n",
       "      <td>38720643973</td>\n",
       "      <td>female</td>\n",
       "      <td>19</td>\n",
       "      <td>4816</td>\n",
       "      <td>31-08-2018</td>\n",
       "      <td>NaN</td>\n",
       "      <td>0</td>\n",
       "      <td>27130</td>\n",
       "      <td>3</td>\n",
       "      <td>1</td>\n",
       "      <td>Prepaid</td>\n",
       "      <td>10</td>\n",
       "    </tr>\n",
       "  </tbody>\n",
       "</table>\n",
       "</div>"
      ],
      "text/plain": [
       "   Customer_ID  Gender  Age Lifetime_data_usage Date_of_registration  \\\n",
       "0  81076390601  female   57                5616           31-08-2018   \n",
       "1  53297743644  female   38                3700           31-08-2018   \n",
       "2  56864064722    male   40                4368           31-08-2018   \n",
       "3  21358509485    male   39                1684           31-08-2018   \n",
       "4  38720643973  female   19                4816           31-08-2018   \n",
       "\n",
       "   Churn_date  Churn  Lifetime_money_spent  Plans_switch  Dependents  \\\n",
       "0         NaN      0                 31837             2           1   \n",
       "1  03-05-2023      1                 26854             2           1   \n",
       "2         NaN      0                 25148             2           1   \n",
       "3  14-12-2020      1                  9226             2           1   \n",
       "4         NaN      0                 27130             3           1   \n",
       "\n",
       "  Plan_type  last_plan_used  \n",
       "0  Postpaid              27  \n",
       "1  Postpaid              27  \n",
       "2   Prepaid              24  \n",
       "3   Prepaid              22  \n",
       "4   Prepaid              10  "
      ]
     },
     "execution_count": 3,
     "metadata": {},
     "output_type": "execute_result"
    }
   ],
   "source": [
    "data.head()"
   ]
  },
  {
   "cell_type": "markdown",
   "id": "7bc0d5b5",
   "metadata": {},
   "source": [
    "# Getting to know the data"
   ]
  },
  {
   "cell_type": "code",
   "execution_count": 4,
   "id": "bfada104",
   "metadata": {},
   "outputs": [
    {
     "data": {
      "text/html": [
       "<div>\n",
       "<style scoped>\n",
       "    .dataframe tbody tr th:only-of-type {\n",
       "        vertical-align: middle;\n",
       "    }\n",
       "\n",
       "    .dataframe tbody tr th {\n",
       "        vertical-align: top;\n",
       "    }\n",
       "\n",
       "    .dataframe thead th {\n",
       "        text-align: right;\n",
       "    }\n",
       "</style>\n",
       "<table border=\"1\" class=\"dataframe\">\n",
       "  <thead>\n",
       "    <tr style=\"text-align: right;\">\n",
       "      <th></th>\n",
       "      <th>Customer_ID</th>\n",
       "      <th>Age</th>\n",
       "      <th>Churn</th>\n",
       "      <th>Lifetime_money_spent</th>\n",
       "      <th>Plans_switch</th>\n",
       "      <th>Dependents</th>\n",
       "      <th>last_plan_used</th>\n",
       "    </tr>\n",
       "  </thead>\n",
       "  <tbody>\n",
       "    <tr>\n",
       "      <th>count</th>\n",
       "      <td>2.000000e+03</td>\n",
       "      <td>2000.000000</td>\n",
       "      <td>2000.0000</td>\n",
       "      <td>2000.000000</td>\n",
       "      <td>2000.000000</td>\n",
       "      <td>2000.000000</td>\n",
       "      <td>2000.000000</td>\n",
       "    </tr>\n",
       "    <tr>\n",
       "      <th>mean</th>\n",
       "      <td>5.533354e+10</td>\n",
       "      <td>41.522500</td>\n",
       "      <td>0.2415</td>\n",
       "      <td>22069.756500</td>\n",
       "      <td>2.227000</td>\n",
       "      <td>1.178000</td>\n",
       "      <td>14.961500</td>\n",
       "    </tr>\n",
       "    <tr>\n",
       "      <th>std</th>\n",
       "      <td>2.581961e+10</td>\n",
       "      <td>13.805535</td>\n",
       "      <td>0.4281</td>\n",
       "      <td>10564.463142</td>\n",
       "      <td>0.790432</td>\n",
       "      <td>0.734565</td>\n",
       "      <td>9.267576</td>\n",
       "    </tr>\n",
       "    <tr>\n",
       "      <th>min</th>\n",
       "      <td>1.001909e+10</td>\n",
       "      <td>18.000000</td>\n",
       "      <td>0.0000</td>\n",
       "      <td>349.000000</td>\n",
       "      <td>1.000000</td>\n",
       "      <td>1.000000</td>\n",
       "      <td>1.000000</td>\n",
       "    </tr>\n",
       "    <tr>\n",
       "      <th>25%</th>\n",
       "      <td>3.391568e+10</td>\n",
       "      <td>29.000000</td>\n",
       "      <td>0.0000</td>\n",
       "      <td>15900.250000</td>\n",
       "      <td>2.000000</td>\n",
       "      <td>1.000000</td>\n",
       "      <td>7.000000</td>\n",
       "    </tr>\n",
       "    <tr>\n",
       "      <th>50%</th>\n",
       "      <td>5.505285e+10</td>\n",
       "      <td>41.000000</td>\n",
       "      <td>0.0000</td>\n",
       "      <td>21240.000000</td>\n",
       "      <td>2.000000</td>\n",
       "      <td>1.000000</td>\n",
       "      <td>14.000000</td>\n",
       "    </tr>\n",
       "    <tr>\n",
       "      <th>75%</th>\n",
       "      <td>7.853206e+10</td>\n",
       "      <td>54.000000</td>\n",
       "      <td>0.0000</td>\n",
       "      <td>26113.500000</td>\n",
       "      <td>2.000000</td>\n",
       "      <td>1.000000</td>\n",
       "      <td>23.000000</td>\n",
       "    </tr>\n",
       "    <tr>\n",
       "      <th>max</th>\n",
       "      <td>9.999142e+10</td>\n",
       "      <td>65.000000</td>\n",
       "      <td>1.0000</td>\n",
       "      <td>85461.000000</td>\n",
       "      <td>5.000000</td>\n",
       "      <td>5.000000</td>\n",
       "      <td>33.000000</td>\n",
       "    </tr>\n",
       "  </tbody>\n",
       "</table>\n",
       "</div>"
      ],
      "text/plain": [
       "        Customer_ID          Age      Churn  Lifetime_money_spent  \\\n",
       "count  2.000000e+03  2000.000000  2000.0000           2000.000000   \n",
       "mean   5.533354e+10    41.522500     0.2415          22069.756500   \n",
       "std    2.581961e+10    13.805535     0.4281          10564.463142   \n",
       "min    1.001909e+10    18.000000     0.0000            349.000000   \n",
       "25%    3.391568e+10    29.000000     0.0000          15900.250000   \n",
       "50%    5.505285e+10    41.000000     0.0000          21240.000000   \n",
       "75%    7.853206e+10    54.000000     0.0000          26113.500000   \n",
       "max    9.999142e+10    65.000000     1.0000          85461.000000   \n",
       "\n",
       "       Plans_switch   Dependents  last_plan_used  \n",
       "count   2000.000000  2000.000000     2000.000000  \n",
       "mean       2.227000     1.178000       14.961500  \n",
       "std        0.790432     0.734565        9.267576  \n",
       "min        1.000000     1.000000        1.000000  \n",
       "25%        2.000000     1.000000        7.000000  \n",
       "50%        2.000000     1.000000       14.000000  \n",
       "75%        2.000000     1.000000       23.000000  \n",
       "max        5.000000     5.000000       33.000000  "
      ]
     },
     "execution_count": 4,
     "metadata": {},
     "output_type": "execute_result"
    }
   ],
   "source": [
    "data.describe()"
   ]
  },
  {
   "cell_type": "code",
   "execution_count": 5,
   "id": "0f837770",
   "metadata": {},
   "outputs": [
    {
     "data": {
      "text/html": [
       "<div>\n",
       "<style scoped>\n",
       "    .dataframe tbody tr th:only-of-type {\n",
       "        vertical-align: middle;\n",
       "    }\n",
       "\n",
       "    .dataframe tbody tr th {\n",
       "        vertical-align: top;\n",
       "    }\n",
       "\n",
       "    .dataframe thead th {\n",
       "        text-align: right;\n",
       "    }\n",
       "</style>\n",
       "<table border=\"1\" class=\"dataframe\">\n",
       "  <thead>\n",
       "    <tr style=\"text-align: right;\">\n",
       "      <th></th>\n",
       "      <th>Gender</th>\n",
       "      <th>Lifetime_data_usage</th>\n",
       "      <th>Date_of_registration</th>\n",
       "      <th>Churn_date</th>\n",
       "      <th>Plan_type</th>\n",
       "    </tr>\n",
       "  </thead>\n",
       "  <tbody>\n",
       "    <tr>\n",
       "      <th>count</th>\n",
       "      <td>2000</td>\n",
       "      <td>2000</td>\n",
       "      <td>2000</td>\n",
       "      <td>483</td>\n",
       "      <td>2000</td>\n",
       "    </tr>\n",
       "    <tr>\n",
       "      <th>unique</th>\n",
       "      <td>2</td>\n",
       "      <td>1158</td>\n",
       "      <td>801</td>\n",
       "      <td>427</td>\n",
       "      <td>2</td>\n",
       "    </tr>\n",
       "    <tr>\n",
       "      <th>top</th>\n",
       "      <td>female</td>\n",
       "      <td>3864</td>\n",
       "      <td>31-08-2018</td>\n",
       "      <td>19-12-2020</td>\n",
       "      <td>Prepaid</td>\n",
       "    </tr>\n",
       "    <tr>\n",
       "      <th>freq</th>\n",
       "      <td>1015</td>\n",
       "      <td>22</td>\n",
       "      <td>501</td>\n",
       "      <td>4</td>\n",
       "      <td>1708</td>\n",
       "    </tr>\n",
       "  </tbody>\n",
       "</table>\n",
       "</div>"
      ],
      "text/plain": [
       "        Gender Lifetime_data_usage Date_of_registration  Churn_date Plan_type\n",
       "count     2000                2000                 2000         483      2000\n",
       "unique       2                1158                  801         427         2\n",
       "top     female                3864           31-08-2018  19-12-2020   Prepaid\n",
       "freq      1015                  22                  501           4      1708"
      ]
     },
     "execution_count": 5,
     "metadata": {},
     "output_type": "execute_result"
    }
   ],
   "source": [
    "data.describe(include=\"object\")"
   ]
  },
  {
   "cell_type": "code",
   "execution_count": 6,
   "id": "468e3bef",
   "metadata": {},
   "outputs": [
    {
     "name": "stdout",
     "output_type": "stream",
     "text": [
      "<class 'pandas.core.frame.DataFrame'>\n",
      "RangeIndex: 2000 entries, 0 to 1999\n",
      "Data columns (total 12 columns):\n",
      " #   Column                Non-Null Count  Dtype \n",
      "---  ------                --------------  ----- \n",
      " 0   Customer_ID           2000 non-null   int64 \n",
      " 1   Gender                2000 non-null   object\n",
      " 2   Age                   2000 non-null   int64 \n",
      " 3   Lifetime_data_usage   2000 non-null   object\n",
      " 4   Date_of_registration  2000 non-null   object\n",
      " 5   Churn_date            483 non-null    object\n",
      " 6   Churn                 2000 non-null   int64 \n",
      " 7   Lifetime_money_spent  2000 non-null   int64 \n",
      " 8   Plans_switch          2000 non-null   int64 \n",
      " 9   Dependents            2000 non-null   int64 \n",
      " 10  Plan_type             2000 non-null   object\n",
      " 11  last_plan_used        2000 non-null   int64 \n",
      "dtypes: int64(7), object(5)\n",
      "memory usage: 187.6+ KB\n"
     ]
    }
   ],
   "source": [
    "data.info()"
   ]
  },
  {
   "cell_type": "code",
   "execution_count": 7,
   "id": "0afb641b",
   "metadata": {},
   "outputs": [
    {
     "data": {
      "text/plain": [
       "(2000, 12)"
      ]
     },
     "execution_count": 7,
     "metadata": {},
     "output_type": "execute_result"
    }
   ],
   "source": [
    "data.shape"
   ]
  },
  {
   "cell_type": "markdown",
   "id": "fc34adba",
   "metadata": {},
   "source": [
    "# Data Inspection and Exploration"
   ]
  },
  {
   "cell_type": "markdown",
   "id": "7678a834",
   "metadata": {},
   "source": [
    "### treating the date_of_registration column and doing feature engineering on it"
   ]
  },
  {
   "cell_type": "code",
   "execution_count": 8,
   "id": "bf2b2f08",
   "metadata": {},
   "outputs": [
    {
     "name": "stderr",
     "output_type": "stream",
     "text": [
      "C:\\Users\\JUBI RANKA\\AppData\\Local\\Temp\\ipykernel_26628\\1552244654.py:2: UserWarning: Parsing dates in DD/MM/YYYY format when dayfirst=False (the default) was specified. This may lead to inconsistently parsed dates! Specify a format to ensure consistent parsing.\n",
      "  data['Date_of_registration'] = pd.to_datetime(data['Date_of_registration'])\n"
     ]
    }
   ],
   "source": [
    "# converting the date_of_registration column to pandas datetime column\n",
    "data['Date_of_registration'] = pd.to_datetime(data['Date_of_registration'])"
   ]
  },
  {
   "cell_type": "code",
   "execution_count": 9,
   "id": "29e01921",
   "metadata": {},
   "outputs": [
    {
     "name": "stderr",
     "output_type": "stream",
     "text": [
      "C:\\Users\\JUBI RANKA\\AppData\\Local\\Temp\\ipykernel_26628\\717498327.py:2: UserWarning: Parsing dates in DD/MM/YYYY format when dayfirst=False (the default) was specified. This may lead to inconsistently parsed dates! Specify a format to ensure consistent parsing.\n",
      "  data['Churn_date'] = pd.to_datetime(data['Churn_date'])\n"
     ]
    }
   ],
   "source": [
    "# converting the Churn_date column to pandas datetime column\n",
    "data['Churn_date'] = pd.to_datetime(data['Churn_date'])"
   ]
  },
  {
   "cell_type": "code",
   "execution_count": 10,
   "id": "b6a881dc",
   "metadata": {},
   "outputs": [],
   "source": [
    "# creating a new column for year of registration\n",
    "data['year_of_registration'] = data['Date_of_registration'].dt.year"
   ]
  },
  {
   "cell_type": "code",
   "execution_count": 11,
   "id": "6740d24c",
   "metadata": {},
   "outputs": [],
   "source": [
    "# creating a new column for year of churn\n",
    "data['year_of_churn'] = data['Churn_date'].dt.year"
   ]
  },
  {
   "cell_type": "code",
   "execution_count": 12,
   "id": "a05e0c36",
   "metadata": {},
   "outputs": [
    {
     "data": {
      "text/plain": [
       "array([  nan, 2023., 2020., 2022., 2019., 2021., 2018.])"
      ]
     },
     "execution_count": 12,
     "metadata": {},
     "output_type": "execute_result"
    }
   ],
   "source": [
    "# finding all the unique values in year column\n",
    "data['year_of_churn'].unique()"
   ]
  },
  {
   "cell_type": "code",
   "execution_count": 13,
   "id": "31c36a89",
   "metadata": {},
   "outputs": [
    {
     "data": {
      "text/plain": [
       "array([2018, 2019, 2020], dtype=int64)"
      ]
     },
     "execution_count": 13,
     "metadata": {},
     "output_type": "execute_result"
    }
   ],
   "source": [
    "# finding all the unique values in year column\n",
    "data['year_of_registration'].unique()"
   ]
  },
  {
   "cell_type": "code",
   "execution_count": 14,
   "id": "e881ed17",
   "metadata": {},
   "outputs": [],
   "source": [
    "# creating anew column for churn date in which all the null values will have today's date as it's value.\n",
    "# it is done to calculate the number of days services ahve been provided\n",
    "data['Churn_date_new']= data['Churn_date']\n",
    "data['Churn_date_new'].fillna(pd.Timestamp(datetime.today().date()), inplace=True)\n",
    "# converting the Churn_date_new column to pandas datetime column\n",
    "data['Churn_date_new'] = pd.to_datetime(data['Churn_date_new'])"
   ]
  },
  {
   "cell_type": "code",
   "execution_count": 15,
   "id": "c997ad59",
   "metadata": {},
   "outputs": [
    {
     "name": "stdout",
     "output_type": "stream",
     "text": [
      "<class 'pandas.core.frame.DataFrame'>\n",
      "RangeIndex: 2000 entries, 0 to 1999\n",
      "Data columns (total 15 columns):\n",
      " #   Column                Non-Null Count  Dtype         \n",
      "---  ------                --------------  -----         \n",
      " 0   Customer_ID           2000 non-null   int64         \n",
      " 1   Gender                2000 non-null   object        \n",
      " 2   Age                   2000 non-null   int64         \n",
      " 3   Lifetime_data_usage   2000 non-null   object        \n",
      " 4   Date_of_registration  2000 non-null   datetime64[ns]\n",
      " 5   Churn_date            483 non-null    datetime64[ns]\n",
      " 6   Churn                 2000 non-null   int64         \n",
      " 7   Lifetime_money_spent  2000 non-null   int64         \n",
      " 8   Plans_switch          2000 non-null   int64         \n",
      " 9   Dependents            2000 non-null   int64         \n",
      " 10  Plan_type             2000 non-null   object        \n",
      " 11  last_plan_used        2000 non-null   int64         \n",
      " 12  year_of_registration  2000 non-null   int64         \n",
      " 13  year_of_churn         483 non-null    float64       \n",
      " 14  Churn_date_new        2000 non-null   datetime64[ns]\n",
      "dtypes: datetime64[ns](3), float64(1), int64(8), object(3)\n",
      "memory usage: 234.5+ KB\n"
     ]
    }
   ],
   "source": [
    "data.info()"
   ]
  },
  {
   "cell_type": "code",
   "execution_count": 16,
   "id": "2d5dad95",
   "metadata": {},
   "outputs": [],
   "source": [
    "# calculating days of services used until 26/09/2024\n",
    "data['days_of_services'] = (data['Churn_date_new'] - data['Date_of_registration']).dt.days"
   ]
  },
  {
   "cell_type": "code",
   "execution_count": 17,
   "id": "d2c89f9b",
   "metadata": {},
   "outputs": [],
   "source": [
    "# converting Lifetime_data_usage to integer value\n",
    "# If you have a specific string like 'Unlimited Data', you can replace it with a very large number or any other default value.\n",
    "\n",
    "# Replace 'Unlimited Data' with a large value (or any other default)\n",
    "data['Lifetime_data_usage'] = data['Lifetime_data_usage'].replace('Unlimited Data', '99999999')\n",
    "\n",
    "# Convert to numeric (after replacements)\n",
    "data['Lifetime_data_usage'] = pd.to_numeric(data['Lifetime_data_usage'], errors='coerce')\n",
    "\n",
    "# Fill NaN values with 0\n",
    "data['Lifetime_data_usage'].fillna(0, inplace=True)\n",
    "\n",
    "\n",
    "# Convert to integer\n",
    "data['Lifetime_data_usage'] = data['Lifetime_data_usage'].astype(int)\n"
   ]
  },
  {
   "cell_type": "markdown",
   "id": "c19f0f4b",
   "metadata": {},
   "source": [
    "### Dropping off columns that are not required"
   ]
  },
  {
   "cell_type": "code",
   "execution_count": 18,
   "id": "c7f13261",
   "metadata": {},
   "outputs": [],
   "source": [
    "# dropping off columns that are not required for buiding a classification model\n",
    "data.drop(['Customer_ID','Churn_date_new','days_of_services','Date_of_registration','Churn_date'],axis=1,inplace=True)"
   ]
  },
  {
   "cell_type": "markdown",
   "id": "8013c506",
   "metadata": {},
   "source": [
    "### Chceking for Outliers"
   ]
  },
  {
   "cell_type": "code",
   "execution_count": 19,
   "id": "6690bcb8",
   "metadata": {},
   "outputs": [
    {
     "data": {
      "text/html": [
       "<div>\n",
       "<style scoped>\n",
       "    .dataframe tbody tr th:only-of-type {\n",
       "        vertical-align: middle;\n",
       "    }\n",
       "\n",
       "    .dataframe tbody tr th {\n",
       "        vertical-align: top;\n",
       "    }\n",
       "\n",
       "    .dataframe thead th {\n",
       "        text-align: right;\n",
       "    }\n",
       "</style>\n",
       "<table border=\"1\" class=\"dataframe\">\n",
       "  <thead>\n",
       "    <tr style=\"text-align: right;\">\n",
       "      <th></th>\n",
       "      <th>Age</th>\n",
       "      <th>Lifetime_data_usage</th>\n",
       "      <th>Churn</th>\n",
       "      <th>Lifetime_money_spent</th>\n",
       "      <th>Plans_switch</th>\n",
       "      <th>Dependents</th>\n",
       "      <th>last_plan_used</th>\n",
       "      <th>year_of_registration</th>\n",
       "      <th>year_of_churn</th>\n",
       "    </tr>\n",
       "  </thead>\n",
       "  <tbody>\n",
       "    <tr>\n",
       "      <th>count</th>\n",
       "      <td>2000.000000</td>\n",
       "      <td>2.000000e+03</td>\n",
       "      <td>2000.0000</td>\n",
       "      <td>2000.000000</td>\n",
       "      <td>2000.000000</td>\n",
       "      <td>2000.000000</td>\n",
       "      <td>2000.000000</td>\n",
       "      <td>2000.000000</td>\n",
       "      <td>483.000000</td>\n",
       "    </tr>\n",
       "    <tr>\n",
       "      <th>mean</th>\n",
       "      <td>41.522500</td>\n",
       "      <td>5.315243e+04</td>\n",
       "      <td>0.2415</td>\n",
       "      <td>22069.756500</td>\n",
       "      <td>2.227000</td>\n",
       "      <td>1.178000</td>\n",
       "      <td>14.961500</td>\n",
       "      <td>2018.775500</td>\n",
       "      <td>2021.159420</td>\n",
       "    </tr>\n",
       "    <tr>\n",
       "      <th>std</th>\n",
       "      <td>13.805535</td>\n",
       "      <td>2.235998e+06</td>\n",
       "      <td>0.4281</td>\n",
       "      <td>10564.463142</td>\n",
       "      <td>0.790432</td>\n",
       "      <td>0.734565</td>\n",
       "      <td>9.267576</td>\n",
       "      <td>0.840508</td>\n",
       "      <td>1.433682</td>\n",
       "    </tr>\n",
       "    <tr>\n",
       "      <th>min</th>\n",
       "      <td>18.000000</td>\n",
       "      <td>0.000000e+00</td>\n",
       "      <td>0.0000</td>\n",
       "      <td>349.000000</td>\n",
       "      <td>1.000000</td>\n",
       "      <td>1.000000</td>\n",
       "      <td>1.000000</td>\n",
       "      <td>2018.000000</td>\n",
       "      <td>2018.000000</td>\n",
       "    </tr>\n",
       "    <tr>\n",
       "      <th>25%</th>\n",
       "      <td>29.000000</td>\n",
       "      <td>2.302000e+03</td>\n",
       "      <td>0.0000</td>\n",
       "      <td>15900.250000</td>\n",
       "      <td>2.000000</td>\n",
       "      <td>1.000000</td>\n",
       "      <td>7.000000</td>\n",
       "      <td>2018.000000</td>\n",
       "      <td>2020.000000</td>\n",
       "    </tr>\n",
       "    <tr>\n",
       "      <th>50%</th>\n",
       "      <td>41.000000</td>\n",
       "      <td>3.272500e+03</td>\n",
       "      <td>0.0000</td>\n",
       "      <td>21240.000000</td>\n",
       "      <td>2.000000</td>\n",
       "      <td>1.000000</td>\n",
       "      <td>14.000000</td>\n",
       "      <td>2019.000000</td>\n",
       "      <td>2021.000000</td>\n",
       "    </tr>\n",
       "    <tr>\n",
       "      <th>75%</th>\n",
       "      <td>54.000000</td>\n",
       "      <td>4.050500e+03</td>\n",
       "      <td>0.0000</td>\n",
       "      <td>26113.500000</td>\n",
       "      <td>2.000000</td>\n",
       "      <td>1.000000</td>\n",
       "      <td>23.000000</td>\n",
       "      <td>2020.000000</td>\n",
       "      <td>2022.000000</td>\n",
       "    </tr>\n",
       "    <tr>\n",
       "      <th>max</th>\n",
       "      <td>65.000000</td>\n",
       "      <td>1.000000e+08</td>\n",
       "      <td>1.0000</td>\n",
       "      <td>85461.000000</td>\n",
       "      <td>5.000000</td>\n",
       "      <td>5.000000</td>\n",
       "      <td>33.000000</td>\n",
       "      <td>2020.000000</td>\n",
       "      <td>2023.000000</td>\n",
       "    </tr>\n",
       "  </tbody>\n",
       "</table>\n",
       "</div>"
      ],
      "text/plain": [
       "               Age  Lifetime_data_usage      Churn  Lifetime_money_spent  \\\n",
       "count  2000.000000         2.000000e+03  2000.0000           2000.000000   \n",
       "mean     41.522500         5.315243e+04     0.2415          22069.756500   \n",
       "std      13.805535         2.235998e+06     0.4281          10564.463142   \n",
       "min      18.000000         0.000000e+00     0.0000            349.000000   \n",
       "25%      29.000000         2.302000e+03     0.0000          15900.250000   \n",
       "50%      41.000000         3.272500e+03     0.0000          21240.000000   \n",
       "75%      54.000000         4.050500e+03     0.0000          26113.500000   \n",
       "max      65.000000         1.000000e+08     1.0000          85461.000000   \n",
       "\n",
       "       Plans_switch   Dependents  last_plan_used  year_of_registration  \\\n",
       "count   2000.000000  2000.000000     2000.000000           2000.000000   \n",
       "mean       2.227000     1.178000       14.961500           2018.775500   \n",
       "std        0.790432     0.734565        9.267576              0.840508   \n",
       "min        1.000000     1.000000        1.000000           2018.000000   \n",
       "25%        2.000000     1.000000        7.000000           2018.000000   \n",
       "50%        2.000000     1.000000       14.000000           2019.000000   \n",
       "75%        2.000000     1.000000       23.000000           2020.000000   \n",
       "max        5.000000     5.000000       33.000000           2020.000000   \n",
       "\n",
       "       year_of_churn  \n",
       "count     483.000000  \n",
       "mean     2021.159420  \n",
       "std         1.433682  \n",
       "min      2018.000000  \n",
       "25%      2020.000000  \n",
       "50%      2021.000000  \n",
       "75%      2022.000000  \n",
       "max      2023.000000  "
      ]
     },
     "execution_count": 19,
     "metadata": {},
     "output_type": "execute_result"
    }
   ],
   "source": [
    "data.describe()"
   ]
  },
  {
   "cell_type": "code",
   "execution_count": 20,
   "id": "a14f37cc",
   "metadata": {},
   "outputs": [
    {
     "data": {
      "image/png": "[encoded data removed]",
      "text/plain": [
       "<Figure size 640x480 with 1 Axes>"
      ]
     },
     "metadata": {},
     "output_type": "display_data"
    }
   ],
   "source": [
    "data['Age'].plot(kind='box')\n",
    "plt.show()"
   ]
  },
  {
   "cell_type": "markdown",
   "id": "b480a019",
   "metadata": {},
   "source": [
    "####     The median age is around 40.\n",
    "    The interquartile range (IQR) (ages between 30 and 50) represents the middle 50% of the data.\n",
    "    The whiskers indicate that most ages lie between just over 20 and around 60.\n",
    "    No significant outliers were detected in the age data.\n",
    "\n",
    "#### This box plot shows a balanced age distribution with no extreme outliers"
   ]
  },
  {
   "cell_type": "code",
   "execution_count": 21,
   "id": "611e3fa8",
   "metadata": {},
   "outputs": [
    {
     "data": {
      "image/png": "[encoded data removed]",
      "text/plain": [
       "<Figure size 640x480 with 1 Axes>"
      ]
     },
     "metadata": {},
     "output_type": "display_data"
    }
   ],
   "source": [
    "data['Churn'].plot(kind='box')\n",
    "plt.show()"
   ]
  },
  {
   "cell_type": "markdown",
   "id": "76418ff0",
   "metadata": {},
   "source": [
    "#### The outlier shown at the top represents the churn cases (1), while the dense area near 0 suggests a higher concentration of non-churn cases (0).\n",
    "#### The majority of the values are near 0, indicating a low churn rate.\n",
    "#### A few outliers at the top (possibly 1 values) indicate churn cases."
   ]
  },
  {
   "cell_type": "code",
   "execution_count": 22,
   "id": "776a865b",
   "metadata": {},
   "outputs": [
    {
     "data": {
      "image/png": "[encoded data removed]",
      "text/plain": [
       "<Figure size 640x480 with 1 Axes>"
      ]
     },
     "metadata": {},
     "output_type": "display_data"
    }
   ],
   "source": [
    "data['Lifetime_money_spent'].plot(kind='box')\n",
    "plt.show()"
   ]
  },
  {
   "cell_type": "markdown",
   "id": "f2741fd7",
   "metadata": {},
   "source": [
    "####     The median lifetime spending is around 15,000.\n",
    "    The IQR (middle 50% of spenders) lies between 10,000 and 20,000.\n",
    "    There are numerous outliers—customers who have spent significantly more than the upper whisker (around 30,000). These customers have spent amounts up to nearly 80,000, indicating some high-value spenders.\n",
    "    A few outliers also exist at the lower end, close to 0.\n",
    "\n",
    "#### This indicates that while most customers spend within a moderate range, there are some who spend much more, suggesting a skew in the data towards high spenders.\n",
    "### we will find if this has some relation with the year of registration or not"
   ]
  },
  {
   "cell_type": "code",
   "execution_count": 23,
   "id": "9fb6236b",
   "metadata": {},
   "outputs": [
    {
     "data": {
      "image/png": "[encoded data removed]",
      "text/plain": [
       "<Figure size 640x480 with 1 Axes>"
      ]
     },
     "metadata": {},
     "output_type": "display_data"
    }
   ],
   "source": [
    "data['Plans_switch'].plot(kind='box')\n",
    "plt.show()"
   ]
  },
  {
   "cell_type": "markdown",
   "id": "ba0550b7",
   "metadata": {},
   "source": [
    "#### Most of the customers have only switched their plans twice in their entire time with VI whilst there are some who have switched \n",
    "#### only once or thrice, four or five times"
   ]
  },
  {
   "cell_type": "code",
   "execution_count": 24,
   "id": "dccb10a5",
   "metadata": {},
   "outputs": [
    {
     "data": {
      "image/png": "[encoded data removed]",
      "text/plain": [
       "<Figure size 640x480 with 1 Axes>"
      ]
     },
     "metadata": {},
     "output_type": "display_data"
    }
   ],
   "source": [
    "data['Dependents'].plot(kind='box')\n",
    "plt.show()"
   ]
  },
  {
   "cell_type": "markdown",
   "id": "8e1ec359",
   "metadata": {},
   "source": [
    "#### Most of the dependents data is around the 1 and very small chunk of data is spread out. we can analyse this by figuring out the \n",
    "#### plan type they are using"
   ]
  },
  {
   "cell_type": "code",
   "execution_count": 25,
   "id": "bdd95b68",
   "metadata": {},
   "outputs": [
    {
     "data": {
      "image/png": "[encoded data removed]",
      "text/plain": [
       "<Figure size 640x480 with 1 Axes>"
      ]
     },
     "metadata": {},
     "output_type": "display_data"
    }
   ],
   "source": [
    "data['year_of_registration'].plot(kind='box')\n",
    "plt.show()"
   ]
  },
  {
   "cell_type": "markdown",
   "id": "1ab9d211",
   "metadata": {},
   "source": [
    "#### the above plot shows that there were no new registration after the year 2020 and the registration started from 2018 because of the date of incorporation of VI is in 2018"
   ]
  },
  {
   "cell_type": "code",
   "execution_count": 26,
   "id": "862f2d10",
   "metadata": {},
   "outputs": [
    {
     "data": {
      "image/png": "[encoded data removed]",
      "text/plain": [
       "<Figure size 640x480 with 1 Axes>"
      ]
     },
     "metadata": {},
     "output_type": "display_data"
    }
   ],
   "source": [
    "data['year_of_churn'].plot(kind='box')\n",
    "plt.show()"
   ]
  },
  {
   "cell_type": "markdown",
   "id": "241b883e",
   "metadata": {},
   "source": [
    "#### Most churn events occurred between 2020 and 2022, with a median around 2021.\n",
    "#### The full range of churn spans from 2018 to 2023."
   ]
  },
  {
   "cell_type": "code",
   "execution_count": 28,
   "id": "d4a67bdd",
   "metadata": {},
   "outputs": [],
   "source": [
    "# data['days_of_services'].plot(kind='box')\n",
    "# plt.show()"
   ]
  },
  {
   "cell_type": "markdown",
   "id": "a2bf443a",
   "metadata": {},
   "source": [
    "#### The majority of the data is clustered between 1000 and 2000 days of service.\n",
    "#### A significant number of outliers represent shorter durations of service (under 500 days).\n",
    "#### The median service duration is around 1500 days."
   ]
  },
  {
   "cell_type": "code",
   "execution_count": 29,
   "id": "0cbda588",
   "metadata": {},
   "outputs": [
    {
     "data": {
      "image/png": "[encoded data removed]",
      "text/plain": [
       "<Figure size 640x480 with 1 Axes>"
      ]
     },
     "metadata": {},
     "output_type": "display_data"
    }
   ],
   "source": [
    "data['Lifetime_data_usage'].plot(kind='box')\n",
    "plt.show()"
   ]
  },
  {
   "cell_type": "markdown",
   "id": "2df6d689",
   "metadata": {},
   "source": [
    "#### the box plot shows that the lifetime data usage is generally very low,\n",
    "#### with a median of 0 and a small interquartile range. The outlier suggests that there may be one or a few individuals with exceptionally high data usage. this might be bacause we set a very high integer value for unlimited data users"
   ]
  },
  {
   "cell_type": "markdown",
   "id": "a021ca79",
   "metadata": {},
   "source": [
    "# Chceking For Multicollinearatity"
   ]
  },
  {
   "cell_type": "code",
   "execution_count": 30,
   "id": "66ffec82",
   "metadata": {},
   "outputs": [],
   "source": [
    "# using correlation table\n",
    "data_without_target_label = data.drop(['Churn'],axis=1,inplace=False)"
   ]
  },
  {
   "cell_type": "code",
   "execution_count": 31,
   "id": "dcaf06f4",
   "metadata": {},
   "outputs": [
    {
     "name": "stderr",
     "output_type": "stream",
     "text": [
      "C:\\Users\\JUBI RANKA\\AppData\\Local\\Temp\\ipykernel_26628\\3772322893.py:1: FutureWarning: The default value of numeric_only in DataFrame.corr is deprecated. In a future version, it will default to False. Select only valid columns or specify the value of numeric_only to silence this warning.\n",
      "  data_without_target_label.corr()\n"
     ]
    },
    {
     "data": {
      "text/html": [
       "<div>\n",
       "<style scoped>\n",
       "    .dataframe tbody tr th:only-of-type {\n",
       "        vertical-align: middle;\n",
       "    }\n",
       "\n",
       "    .dataframe tbody tr th {\n",
       "        vertical-align: top;\n",
       "    }\n",
       "\n",
       "    .dataframe thead th {\n",
       "        text-align: right;\n",
       "    }\n",
       "</style>\n",
       "<table border=\"1\" class=\"dataframe\">\n",
       "  <thead>\n",
       "    <tr style=\"text-align: right;\">\n",
       "      <th></th>\n",
       "      <th>Age</th>\n",
       "      <th>Lifetime_data_usage</th>\n",
       "      <th>Lifetime_money_spent</th>\n",
       "      <th>Plans_switch</th>\n",
       "      <th>Dependents</th>\n",
       "      <th>last_plan_used</th>\n",
       "      <th>year_of_registration</th>\n",
       "      <th>year_of_churn</th>\n",
       "    </tr>\n",
       "  </thead>\n",
       "  <tbody>\n",
       "    <tr>\n",
       "      <th>Age</th>\n",
       "      <td>1.000000</td>\n",
       "      <td>-0.025161</td>\n",
       "      <td>-0.018964</td>\n",
       "      <td>0.020986</td>\n",
       "      <td>0.007892</td>\n",
       "      <td>0.005725</td>\n",
       "      <td>0.003432</td>\n",
       "      <td>-0.012450</td>\n",
       "    </tr>\n",
       "    <tr>\n",
       "      <th>Lifetime_data_usage</th>\n",
       "      <td>-0.025161</td>\n",
       "      <td>1.000000</td>\n",
       "      <td>-0.043780</td>\n",
       "      <td>-0.034723</td>\n",
       "      <td>-0.005325</td>\n",
       "      <td>0.033942</td>\n",
       "      <td>-0.020882</td>\n",
       "      <td>-0.068496</td>\n",
       "    </tr>\n",
       "    <tr>\n",
       "      <th>Lifetime_money_spent</th>\n",
       "      <td>-0.018964</td>\n",
       "      <td>-0.043780</td>\n",
       "      <td>1.000000</td>\n",
       "      <td>0.056094</td>\n",
       "      <td>0.293605</td>\n",
       "      <td>0.322672</td>\n",
       "      <td>-0.344695</td>\n",
       "      <td>0.630387</td>\n",
       "    </tr>\n",
       "    <tr>\n",
       "      <th>Plans_switch</th>\n",
       "      <td>0.020986</td>\n",
       "      <td>-0.034723</td>\n",
       "      <td>0.056094</td>\n",
       "      <td>1.000000</td>\n",
       "      <td>-0.046363</td>\n",
       "      <td>-0.050502</td>\n",
       "      <td>-0.026412</td>\n",
       "      <td>0.234795</td>\n",
       "    </tr>\n",
       "    <tr>\n",
       "      <th>Dependents</th>\n",
       "      <td>0.007892</td>\n",
       "      <td>-0.005325</td>\n",
       "      <td>0.293605</td>\n",
       "      <td>-0.046363</td>\n",
       "      <td>1.000000</td>\n",
       "      <td>0.455063</td>\n",
       "      <td>0.005609</td>\n",
       "      <td>-0.043968</td>\n",
       "    </tr>\n",
       "    <tr>\n",
       "      <th>last_plan_used</th>\n",
       "      <td>0.005725</td>\n",
       "      <td>0.033942</td>\n",
       "      <td>0.322672</td>\n",
       "      <td>-0.050502</td>\n",
       "      <td>0.455063</td>\n",
       "      <td>1.000000</td>\n",
       "      <td>-0.020698</td>\n",
       "      <td>-0.005793</td>\n",
       "    </tr>\n",
       "    <tr>\n",
       "      <th>year_of_registration</th>\n",
       "      <td>0.003432</td>\n",
       "      <td>-0.020882</td>\n",
       "      <td>-0.344695</td>\n",
       "      <td>-0.026412</td>\n",
       "      <td>0.005609</td>\n",
       "      <td>-0.020698</td>\n",
       "      <td>1.000000</td>\n",
       "      <td>0.268610</td>\n",
       "    </tr>\n",
       "    <tr>\n",
       "      <th>year_of_churn</th>\n",
       "      <td>-0.012450</td>\n",
       "      <td>-0.068496</td>\n",
       "      <td>0.630387</td>\n",
       "      <td>0.234795</td>\n",
       "      <td>-0.043968</td>\n",
       "      <td>-0.005793</td>\n",
       "      <td>0.268610</td>\n",
       "      <td>1.000000</td>\n",
       "    </tr>\n",
       "  </tbody>\n",
       "</table>\n",
       "</div>"
      ],
      "text/plain": [
       "                           Age  Lifetime_data_usage  Lifetime_money_spent  \\\n",
       "Age                   1.000000            -0.025161             -0.018964   \n",
       "Lifetime_data_usage  -0.025161             1.000000             -0.043780   \n",
       "Lifetime_money_spent -0.018964            -0.043780              1.000000   \n",
       "Plans_switch          0.020986            -0.034723              0.056094   \n",
       "Dependents            0.007892            -0.005325              0.293605   \n",
       "last_plan_used        0.005725             0.033942              0.322672   \n",
       "year_of_registration  0.003432            -0.020882             -0.344695   \n",
       "year_of_churn        -0.012450            -0.068496              0.630387   \n",
       "\n",
       "                      Plans_switch  Dependents  last_plan_used  \\\n",
       "Age                       0.020986    0.007892        0.005725   \n",
       "Lifetime_data_usage      -0.034723   -0.005325        0.033942   \n",
       "Lifetime_money_spent      0.056094    0.293605        0.322672   \n",
       "Plans_switch              1.000000   -0.046363       -0.050502   \n",
       "Dependents               -0.046363    1.000000        0.455063   \n",
       "last_plan_used           -0.050502    0.455063        1.000000   \n",
       "year_of_registration     -0.026412    0.005609       -0.020698   \n",
       "year_of_churn             0.234795   -0.043968       -0.005793   \n",
       "\n",
       "                      year_of_registration  year_of_churn  \n",
       "Age                               0.003432      -0.012450  \n",
       "Lifetime_data_usage              -0.020882      -0.068496  \n",
       "Lifetime_money_spent             -0.344695       0.630387  \n",
       "Plans_switch                     -0.026412       0.234795  \n",
       "Dependents                        0.005609      -0.043968  \n",
       "last_plan_used                   -0.020698      -0.005793  \n",
       "year_of_registration              1.000000       0.268610  \n",
       "year_of_churn                     0.268610       1.000000  "
      ]
     },
     "execution_count": 31,
     "metadata": {},
     "output_type": "execute_result"
    }
   ],
   "source": [
    "data_without_target_label.corr()"
   ]
  },
  {
   "cell_type": "code",
   "execution_count": 32,
   "id": "7ec72f2d",
   "metadata": {},
   "outputs": [
    {
     "name": "stderr",
     "output_type": "stream",
     "text": [
      "C:\\Users\\JUBI RANKA\\AppData\\Local\\Temp\\ipykernel_26628\\2663541333.py:1: FutureWarning: The default value of numeric_only in DataFrame.corr is deprecated. In a future version, it will default to False. Select only valid columns or specify the value of numeric_only to silence this warning.\n",
      "  abs(data_without_target_label.corr())>0.75\n"
     ]
    },
    {
     "data": {
      "text/html": [
       "<div>\n",
       "<style scoped>\n",
       "    .dataframe tbody tr th:only-of-type {\n",
       "        vertical-align: middle;\n",
       "    }\n",
       "\n",
       "    .dataframe tbody tr th {\n",
       "        vertical-align: top;\n",
       "    }\n",
       "\n",
       "    .dataframe thead th {\n",
       "        text-align: right;\n",
       "    }\n",
       "</style>\n",
       "<table border=\"1\" class=\"dataframe\">\n",
       "  <thead>\n",
       "    <tr style=\"text-align: right;\">\n",
       "      <th></th>\n",
       "      <th>Age</th>\n",
       "      <th>Lifetime_data_usage</th>\n",
       "      <th>Lifetime_money_spent</th>\n",
       "      <th>Plans_switch</th>\n",
       "      <th>Dependents</th>\n",
       "      <th>last_plan_used</th>\n",
       "      <th>year_of_registration</th>\n",
       "      <th>year_of_churn</th>\n",
       "    </tr>\n",
       "  </thead>\n",
       "  <tbody>\n",
       "    <tr>\n",
       "      <th>Age</th>\n",
       "      <td>True</td>\n",
       "      <td>False</td>\n",
       "      <td>False</td>\n",
       "      <td>False</td>\n",
       "      <td>False</td>\n",
       "      <td>False</td>\n",
       "      <td>False</td>\n",
       "      <td>False</td>\n",
       "    </tr>\n",
       "    <tr>\n",
       "      <th>Lifetime_data_usage</th>\n",
       "      <td>False</td>\n",
       "      <td>True</td>\n",
       "      <td>False</td>\n",
       "      <td>False</td>\n",
       "      <td>False</td>\n",
       "      <td>False</td>\n",
       "      <td>False</td>\n",
       "      <td>False</td>\n",
       "    </tr>\n",
       "    <tr>\n",
       "      <th>Lifetime_money_spent</th>\n",
       "      <td>False</td>\n",
       "      <td>False</td>\n",
       "      <td>True</td>\n",
       "      <td>False</td>\n",
       "      <td>False</td>\n",
       "      <td>False</td>\n",
       "      <td>False</td>\n",
       "      <td>False</td>\n",
       "    </tr>\n",
       "    <tr>\n",
       "      <th>Plans_switch</th>\n",
       "      <td>False</td>\n",
       "      <td>False</td>\n",
       "      <td>False</td>\n",
       "      <td>True</td>\n",
       "      <td>False</td>\n",
       "      <td>False</td>\n",
       "      <td>False</td>\n",
       "      <td>False</td>\n",
       "    </tr>\n",
       "    <tr>\n",
       "      <th>Dependents</th>\n",
       "      <td>False</td>\n",
       "      <td>False</td>\n",
       "      <td>False</td>\n",
       "      <td>False</td>\n",
       "      <td>True</td>\n",
       "      <td>False</td>\n",
       "      <td>False</td>\n",
       "      <td>False</td>\n",
       "    </tr>\n",
       "    <tr>\n",
       "      <th>last_plan_used</th>\n",
       "      <td>False</td>\n",
       "      <td>False</td>\n",
       "      <td>False</td>\n",
       "      <td>False</td>\n",
       "      <td>False</td>\n",
       "      <td>True</td>\n",
       "      <td>False</td>\n",
       "      <td>False</td>\n",
       "    </tr>\n",
       "    <tr>\n",
       "      <th>year_of_registration</th>\n",
       "      <td>False</td>\n",
       "      <td>False</td>\n",
       "      <td>False</td>\n",
       "      <td>False</td>\n",
       "      <td>False</td>\n",
       "      <td>False</td>\n",
       "      <td>True</td>\n",
       "      <td>False</td>\n",
       "    </tr>\n",
       "    <tr>\n",
       "      <th>year_of_churn</th>\n",
       "      <td>False</td>\n",
       "      <td>False</td>\n",
       "      <td>False</td>\n",
       "      <td>False</td>\n",
       "      <td>False</td>\n",
       "      <td>False</td>\n",
       "      <td>False</td>\n",
       "      <td>True</td>\n",
       "    </tr>\n",
       "  </tbody>\n",
       "</table>\n",
       "</div>"
      ],
      "text/plain": [
       "                        Age  Lifetime_data_usage  Lifetime_money_spent  \\\n",
       "Age                    True                False                 False   \n",
       "Lifetime_data_usage   False                 True                 False   \n",
       "Lifetime_money_spent  False                False                  True   \n",
       "Plans_switch          False                False                 False   \n",
       "Dependents            False                False                 False   \n",
       "last_plan_used        False                False                 False   \n",
       "year_of_registration  False                False                 False   \n",
       "year_of_churn         False                False                 False   \n",
       "\n",
       "                      Plans_switch  Dependents  last_plan_used  \\\n",
       "Age                          False       False           False   \n",
       "Lifetime_data_usage          False       False           False   \n",
       "Lifetime_money_spent         False       False           False   \n",
       "Plans_switch                  True       False           False   \n",
       "Dependents                   False        True           False   \n",
       "last_plan_used               False       False            True   \n",
       "year_of_registration         False       False           False   \n",
       "year_of_churn                False       False           False   \n",
       "\n",
       "                      year_of_registration  year_of_churn  \n",
       "Age                                  False          False  \n",
       "Lifetime_data_usage                  False          False  \n",
       "Lifetime_money_spent                 False          False  \n",
       "Plans_switch                         False          False  \n",
       "Dependents                           False          False  \n",
       "last_plan_used                       False          False  \n",
       "year_of_registration                  True          False  \n",
       "year_of_churn                        False           True  "
      ]
     },
     "execution_count": 32,
     "metadata": {},
     "output_type": "execute_result"
    }
   ],
   "source": [
    "abs(data_without_target_label.corr())>0.75"
   ]
  },
  {
   "cell_type": "code",
   "execution_count": 33,
   "id": "9a02c6e5",
   "metadata": {},
   "outputs": [],
   "source": [
    "# value of correlation lies between -1 to 1 and the value of correlation closer to the extremes, that is -1 and 1, means that\n",
    "# the data is strongle related to each other and as it comes closer to zero it shows that the realtion is not strong and if it\n",
    "# is zero it means that there is no relation"
   ]
  },
  {
   "cell_type": "code",
   "execution_count": 34,
   "id": "5ecbd9aa",
   "metadata": {},
   "outputs": [],
   "source": [
    "# using heatmap"
   ]
  },
  {
   "cell_type": "code",
   "execution_count": 35,
   "id": "53c44009",
   "metadata": {},
   "outputs": [
    {
     "name": "stderr",
     "output_type": "stream",
     "text": [
      "C:\\Users\\JUBI RANKA\\AppData\\Local\\Temp\\ipykernel_26628\\1774236473.py:2: FutureWarning: The default value of numeric_only in DataFrame.corr is deprecated. In a future version, it will default to False. Select only valid columns or specify the value of numeric_only to silence this warning.\n",
      "  sns.heatmap(data_without_target_label.corr(),center = 0, linewidths = 0.8,cmap = \"Greens\",annot=True)\n"
     ]
    },
    {
     "data": {
      "text/plain": [
       "<Axes: >"
      ]
     },
     "execution_count": 35,
     "metadata": {},
     "output_type": "execute_result"
    },
    {
     "data": {
      "image/png": "[encoded data removed]",
      "text/plain": [
       "<Figure size 1100x900 with 2 Axes>"
      ]
     },
     "metadata": {},
     "output_type": "display_data"
    }
   ],
   "source": [
    "f, ax = plt.subplots(figsize=(11,9))\n",
    "sns.heatmap(data_without_target_label.corr(),center = 0, linewidths = 0.8,cmap = \"Greens\",annot=True)"
   ]
  },
  {
   "cell_type": "code",
   "execution_count": 36,
   "id": "d041f723",
   "metadata": {},
   "outputs": [
    {
     "name": "stdout",
     "output_type": "stream",
     "text": [
      "<class 'pandas.core.frame.DataFrame'>\n",
      "RangeIndex: 2000 entries, 0 to 1999\n",
      "Data columns (total 11 columns):\n",
      " #   Column                Non-Null Count  Dtype  \n",
      "---  ------                --------------  -----  \n",
      " 0   Gender                2000 non-null   object \n",
      " 1   Age                   2000 non-null   int64  \n",
      " 2   Lifetime_data_usage   2000 non-null   int32  \n",
      " 3   Churn                 2000 non-null   int64  \n",
      " 4   Lifetime_money_spent  2000 non-null   int64  \n",
      " 5   Plans_switch          2000 non-null   int64  \n",
      " 6   Dependents            2000 non-null   int64  \n",
      " 7   Plan_type             2000 non-null   object \n",
      " 8   last_plan_used        2000 non-null   int64  \n",
      " 9   year_of_registration  2000 non-null   int64  \n",
      " 10  year_of_churn         483 non-null    float64\n",
      "dtypes: float64(1), int32(1), int64(7), object(2)\n",
      "memory usage: 164.2+ KB\n"
     ]
    }
   ],
   "source": [
    "data.info()"
   ]
  },
  {
   "cell_type": "markdown",
   "id": "7fe87d3f",
   "metadata": {},
   "source": [
    "# Exploratory Data Analysis"
   ]
  },
  {
   "cell_type": "markdown",
   "id": "e379b5c1",
   "metadata": {},
   "source": [
    "### Univariate Analysis"
   ]
  },
  {
   "cell_type": "code",
   "execution_count": 37,
   "id": "bc0a3f5f",
   "metadata": {},
   "outputs": [
    {
     "data": {
      "text/html": [
       "<div>\n",
       "<style scoped>\n",
       "    .dataframe tbody tr th:only-of-type {\n",
       "        vertical-align: middle;\n",
       "    }\n",
       "\n",
       "    .dataframe tbody tr th {\n",
       "        vertical-align: top;\n",
       "    }\n",
       "\n",
       "    .dataframe thead th {\n",
       "        text-align: right;\n",
       "    }\n",
       "</style>\n",
       "<table border=\"1\" class=\"dataframe\">\n",
       "  <thead>\n",
       "    <tr style=\"text-align: right;\">\n",
       "      <th></th>\n",
       "      <th>Gender</th>\n",
       "      <th>Plan_type</th>\n",
       "    </tr>\n",
       "  </thead>\n",
       "  <tbody>\n",
       "    <tr>\n",
       "      <th>count</th>\n",
       "      <td>2000</td>\n",
       "      <td>2000</td>\n",
       "    </tr>\n",
       "    <tr>\n",
       "      <th>unique</th>\n",
       "      <td>2</td>\n",
       "      <td>2</td>\n",
       "    </tr>\n",
       "    <tr>\n",
       "      <th>top</th>\n",
       "      <td>female</td>\n",
       "      <td>Prepaid</td>\n",
       "    </tr>\n",
       "    <tr>\n",
       "      <th>freq</th>\n",
       "      <td>1015</td>\n",
       "      <td>1708</td>\n",
       "    </tr>\n",
       "  </tbody>\n",
       "</table>\n",
       "</div>"
      ],
      "text/plain": [
       "        Gender Plan_type\n",
       "count     2000      2000\n",
       "unique       2         2\n",
       "top     female   Prepaid\n",
       "freq      1015      1708"
      ]
     },
     "execution_count": 37,
     "metadata": {},
     "output_type": "execute_result"
    }
   ],
   "source": [
    "data.describe(include='object')"
   ]
  },
  {
   "cell_type": "code",
   "execution_count": 38,
   "id": "22d09362",
   "metadata": {},
   "outputs": [
    {
     "data": {
      "image/png": "[encoded data removed]",
      "text/plain": [
       "<Figure size 800x600 with 1 Axes>"
      ]
     },
     "metadata": {},
     "output_type": "display_data"
    }
   ],
   "source": [
    "gender = data['Gender'].value_counts()\n",
    "\n",
    "# Creating a pie chart\n",
    "plt.figure(figsize=(8, 6))\n",
    "plt.pie(gender, labels=gender.index, autopct='%1.1f%%', startangle=90, colors=['#02abaa', '#ff9999'])\n",
    "\n",
    "# Equal aspect ratio ensures the pie chart is drawn as a circle\n",
    "plt.axis('equal')\n",
    "\n",
    "# Title of the pie chart\n",
    "plt.title('Distribution of Gender')\n",
    "\n",
    "# Show the pie chart\n",
    "plt.show()"
   ]
  },
  {
   "cell_type": "code",
   "execution_count": 39,
   "id": "ce1454b4",
   "metadata": {},
   "outputs": [
    {
     "data": {
      "image/png": "[encoded data removed]",
      "text/plain": [
       "<Figure size 800x600 with 1 Axes>"
      ]
     },
     "metadata": {},
     "output_type": "display_data"
    }
   ],
   "source": [
    "Plan_type = data['Plan_type'].value_counts()\n",
    "\n",
    "# Creating a pie chart\n",
    "plt.figure(figsize=(8, 6))\n",
    "plt.pie(Plan_type, labels=Plan_type.index, autopct='%1.1f%%', startangle=90, colors=['#02abaa', '#ff9999'])\n",
    "\n",
    "# Equal aspect ratio ensures the pie chart is drawn as a circle\n",
    "plt.axis('equal')\n",
    "\n",
    "# Title of the pie chart\n",
    "plt.title('Distribution of Plan_type')\n",
    "\n",
    "# Show the pie chart\n",
    "plt.show()"
   ]
  },
  {
   "cell_type": "markdown",
   "id": "0fe49331",
   "metadata": {},
   "source": [
    "### BIvariate Analysis "
   ]
  },
  {
   "cell_type": "code",
   "execution_count": 40,
   "id": "c8378be9",
   "metadata": {},
   "outputs": [],
   "source": [
    "# sns.pairplot(data)"
   ]
  },
  {
   "cell_type": "code",
   "execution_count": 41,
   "id": "9a9f034e",
   "metadata": {},
   "outputs": [],
   "source": [
    "# f, ax = plt.subplots(figsize=(11,9))\n",
    "# sns.heatmap(data.corr(),center = 0, linewidths = 0.8,cmap = \"Greens\",annot=True)"
   ]
  },
  {
   "cell_type": "markdown",
   "id": "75959891",
   "metadata": {},
   "source": [
    "# Data Transformation"
   ]
  },
  {
   "cell_type": "code",
   "execution_count": 42,
   "id": "40d0d064",
   "metadata": {},
   "outputs": [
    {
     "name": "stderr",
     "output_type": "stream",
     "text": [
      "C:\\Users\\JUBI RANKA\\AppData\\Local\\Temp\\ipykernel_26628\\2356861692.py:2: FutureWarning: The default value of numeric_only in DataFrame.skew is deprecated. In a future version, it will default to False. In addition, specifying 'numeric_only=None' is deprecated. Select only valid columns or specify the value of numeric_only to silence this warning.\n",
      "  data.skew(axis=0)\n"
     ]
    },
    {
     "data": {
      "text/plain": [
       "Age                      0.028851\n",
       "Lifetime_data_usage     44.721327\n",
       "Churn                    1.208871\n",
       "Lifetime_money_spent     1.073746\n",
       "Plans_switch             2.080755\n",
       "Dependents               4.362081\n",
       "last_plan_used           0.300869\n",
       "year_of_registration     0.442533\n",
       "year_of_churn           -0.277682\n",
       "dtype: float64"
      ]
     },
     "execution_count": 42,
     "metadata": {},
     "output_type": "execute_result"
    }
   ],
   "source": [
    "# checking skewness to normalize data\n",
    "data.skew(axis=0)"
   ]
  },
  {
   "cell_type": "code",
   "execution_count": 43,
   "id": "eb603b9b",
   "metadata": {},
   "outputs": [],
   "source": [
    "# these features do not require transformation\n",
    "# Age\n",
    "# last_plan_used\n",
    "# year_of_registration\n",
    "# year_of_churn"
   ]
  },
  {
   "cell_type": "code",
   "execution_count": 44,
   "id": "af98a2ca",
   "metadata": {},
   "outputs": [],
   "source": [
    "# transforming the rest\n",
    "# Log transformation for high skewness features\n",
    "data['Log_Lifetime_data_usage'] = np.log(data['Lifetime_data_usage'] + 1)\n",
    "data['Log_Churn'] = np.log(data['Churn'] + 1)\n",
    "data['Log_Lifetime_money_spent'] = np.log(data['Lifetime_money_spent'] + 1)\n",
    "data['Log_Plans_switch'] = np.log(data['Plans_switch'] + 1)\n",
    "data['Log_Dependents'] = np.log(data['Dependents'] + 1)"
   ]
  },
  {
   "cell_type": "markdown",
   "id": "e1a1ef3d",
   "metadata": {},
   "source": [
    "### using statistical methods to check normality"
   ]
  },
  {
   "cell_type": "code",
   "execution_count": 45,
   "id": "3a4a02a2",
   "metadata": {},
   "outputs": [
    {
     "name": "stdout",
     "output_type": "stream",
     "text": [
      "Shapiro-Wilk Test for Log_Churn: Statistics=0.531, p=0.000\n",
      "Log_Churn is NOT normally distributed\n",
      "\n",
      "Shapiro-Wilk Test for Log_Lifetime_data_usage: Statistics=0.485, p=0.000\n",
      "Log_Lifetime_data_usage is NOT normally distributed\n",
      "\n",
      "Shapiro-Wilk Test for Log_Lifetime_money_spent: Statistics=0.848, p=0.000\n",
      "Log_Lifetime_money_spent is NOT normally distributed\n",
      "\n",
      "Shapiro-Wilk Test for Log_Plans_switch: Statistics=0.619, p=0.000\n",
      "Log_Plans_switch is NOT normally distributed\n",
      "\n",
      "Shapiro-Wilk Test for Log_Dependents: Statistics=0.267, p=0.000\n",
      "Log_Dependents is NOT normally distributed\n",
      "\n"
     ]
    }
   ],
   "source": [
    "from scipy.stats import shapiro\n",
    "\n",
    "# Checking normality for transformed features\n",
    "transformed_features = ['Log_Churn', 'Log_Lifetime_data_usage', 'Log_Lifetime_money_spent', 'Log_Plans_switch', 'Log_Dependents']\n",
    "\n",
    "for feature in transformed_features:\n",
    "    stat, p = shapiro(data[feature])\n",
    "    print(f'Shapiro-Wilk Test for {feature}: Statistics={stat:.3f}, p={p:.3f}')\n",
    "    if p > 0.05:\n",
    "        print(f'{feature} is likely normally distributed\\n')\n",
    "    else:\n",
    "        print(f'{feature} is NOT normally distributed\\n')"
   ]
  },
  {
   "cell_type": "code",
   "execution_count": 46,
   "id": "262112cd",
   "metadata": {},
   "outputs": [
    {
     "name": "stdout",
     "output_type": "stream",
     "text": [
      "D'Agostino's K-squared Test for Log_Churn: Statistics=361.209, p=0.000\n",
      "Log_Churn is NOT normally distributed\n",
      "\n",
      "D'Agostino's K-squared Test for Log_Lifetime_data_usage: Statistics=1301.146, p=0.000\n",
      "Log_Lifetime_data_usage is NOT normally distributed\n",
      "\n",
      "D'Agostino's K-squared Test for Log_Lifetime_money_spent: Statistics=886.931, p=0.000\n",
      "Log_Lifetime_money_spent is NOT normally distributed\n",
      "\n",
      "D'Agostino's K-squared Test for Log_Plans_switch: Statistics=446.734, p=0.000\n",
      "Log_Plans_switch is NOT normally distributed\n",
      "\n",
      "D'Agostino's K-squared Test for Log_Dependents: Statistics=1647.539, p=0.000\n",
      "Log_Dependents is NOT normally distributed\n",
      "\n"
     ]
    }
   ],
   "source": [
    "from scipy.stats import normaltest\n",
    "\n",
    "# Checking normality using D'Agostino's K-squared test\n",
    "for feature in transformed_features:\n",
    "    stat, p = normaltest(data[feature])\n",
    "    print(f\"D'Agostino's K-squared Test for {feature}: Statistics={stat:.3f}, p={p:.3f}\")\n",
    "    if p > 0.05:\n",
    "        print(f'{feature} is likely normally distributed\\n')\n",
    "    else:\n",
    "        print(f'{feature} is NOT normally distributed\\n')\n"
   ]
  },
  {
   "cell_type": "code",
   "execution_count": 47,
   "id": "982a9f73",
   "metadata": {},
   "outputs": [
    {
     "name": "stdout",
     "output_type": "stream",
     "text": [
      "Anderson-Darling Test for Log_Churn: Statistic=488.204\n",
      "15.0%: 0.575, Log_Churn does not look normal\n",
      "10.0%: 0.655, Log_Churn does not look normal\n",
      "5.0%: 0.785, Log_Churn does not look normal\n",
      "2.5%: 0.916, Log_Churn does not look normal\n",
      "1.0%: 1.090, Log_Churn does not look normal\n",
      "\n",
      "Anderson-Darling Test for Log_Lifetime_data_usage: Statistic=385.036\n",
      "15.0%: 0.575, Log_Lifetime_data_usage does not look normal\n",
      "10.0%: 0.655, Log_Lifetime_data_usage does not look normal\n",
      "5.0%: 0.785, Log_Lifetime_data_usage does not look normal\n",
      "2.5%: 0.916, Log_Lifetime_data_usage does not look normal\n",
      "1.0%: 1.090, Log_Lifetime_data_usage does not look normal\n",
      "\n",
      "Anderson-Darling Test for Log_Lifetime_money_spent: Statistic=74.226\n",
      "15.0%: 0.575, Log_Lifetime_money_spent does not look normal\n",
      "10.0%: 0.655, Log_Lifetime_money_spent does not look normal\n",
      "5.0%: 0.785, Log_Lifetime_money_spent does not look normal\n",
      "2.5%: 0.916, Log_Lifetime_money_spent does not look normal\n",
      "1.0%: 1.090, Log_Lifetime_money_spent does not look normal\n",
      "\n",
      "Anderson-Darling Test for Log_Plans_switch: Statistic=395.086\n",
      "15.0%: 0.575, Log_Plans_switch does not look normal\n",
      "10.0%: 0.655, Log_Plans_switch does not look normal\n",
      "5.0%: 0.785, Log_Plans_switch does not look normal\n",
      "2.5%: 0.916, Log_Plans_switch does not look normal\n",
      "1.0%: 1.090, Log_Plans_switch does not look normal\n",
      "\n",
      "Anderson-Darling Test for Log_Dependents: Statistic=669.227\n",
      "15.0%: 0.575, Log_Dependents does not look normal\n",
      "10.0%: 0.655, Log_Dependents does not look normal\n",
      "5.0%: 0.785, Log_Dependents does not look normal\n",
      "2.5%: 0.916, Log_Dependents does not look normal\n",
      "1.0%: 1.090, Log_Dependents does not look normal\n",
      "\n"
     ]
    }
   ],
   "source": [
    "from scipy.stats import anderson\n",
    "\n",
    "# Checking normality using Anderson-Darling test\n",
    "for feature in transformed_features:\n",
    "    result = anderson(data[feature], dist='norm')\n",
    "    print(f'Anderson-Darling Test for {feature}: Statistic={result.statistic:.3f}')\n",
    "    for i in range(len(result.critical_values)):\n",
    "        sl, cv = result.significance_level[i], result.critical_values[i]\n",
    "        if result.statistic < cv:\n",
    "            print(f'{sl}%: {cv:.3f}, {feature} looks normal')\n",
    "        else:\n",
    "            print(f'{sl}%: {cv:.3f}, {feature} does not look normal')\n",
    "    print()\n"
   ]
  },
  {
   "cell_type": "code",
   "execution_count": 48,
   "id": "9e72639c",
   "metadata": {},
   "outputs": [],
   "source": [
    "# data.drop(columns=['Lifetime_data_usage', 'Churn', 'Lifetime_money_spent', 'Plans_switch', 'Dependents'],axis =1, inplace=True)\n"
   ]
  },
  {
   "cell_type": "markdown",
   "id": "00257b97",
   "metadata": {},
   "source": [
    "# Label encoding for gender column"
   ]
  },
  {
   "cell_type": "code",
   "execution_count": 49,
   "id": "8eefcc8e",
   "metadata": {},
   "outputs": [
    {
     "data": {
      "text/plain": [
       "array([0, 1])"
      ]
     },
     "execution_count": 49,
     "metadata": {},
     "output_type": "execute_result"
    }
   ],
   "source": [
    "# how to understand word labels. \n",
    "label_encoder = preprocessing.LabelEncoder() \n",
    "  \n",
    "# Encode labels in column 'species'. \n",
    "data['Gender']= label_encoder.fit_transform(data['Gender']) \n",
    "  \n",
    "data['Gender'].unique() \n",
    "\n",
    "# A label with a high value may be considered to have high priority than a label having a lower value."
   ]
  },
  {
   "cell_type": "markdown",
   "id": "cc73195d",
   "metadata": {},
   "source": [
    "# Label encoding for Plan_type column"
   ]
  },
  {
   "cell_type": "code",
   "execution_count": 50,
   "id": "a029584b",
   "metadata": {},
   "outputs": [
    {
     "data": {
      "text/plain": [
       "array([0, 1])"
      ]
     },
     "execution_count": 50,
     "metadata": {},
     "output_type": "execute_result"
    }
   ],
   "source": [
    "# how to understand word labels. \n",
    "label_encoder = preprocessing.LabelEncoder() \n",
    "  \n",
    "# Encode labels in column 'species'. \n",
    "data['Plan_type']= label_encoder.fit_transform(data['Plan_type']) \n",
    "  \n",
    "data['Plan_type'].unique() \n",
    "\n",
    "# A label with a high value may be considered to have high priority than a label having a lower value."
   ]
  },
  {
   "cell_type": "code",
   "execution_count": 51,
   "id": "7f2f80f9",
   "metadata": {},
   "outputs": [
    {
     "data": {
      "text/html": [
       "<div>\n",
       "<style scoped>\n",
       "    .dataframe tbody tr th:only-of-type {\n",
       "        vertical-align: middle;\n",
       "    }\n",
       "\n",
       "    .dataframe tbody tr th {\n",
       "        vertical-align: top;\n",
       "    }\n",
       "\n",
       "    .dataframe thead th {\n",
       "        text-align: right;\n",
       "    }\n",
       "</style>\n",
       "<table border=\"1\" class=\"dataframe\">\n",
       "  <thead>\n",
       "    <tr style=\"text-align: right;\">\n",
       "      <th></th>\n",
       "      <th>Gender</th>\n",
       "      <th>Age</th>\n",
       "      <th>Lifetime_data_usage</th>\n",
       "      <th>Churn</th>\n",
       "      <th>Lifetime_money_spent</th>\n",
       "      <th>Plans_switch</th>\n",
       "      <th>Dependents</th>\n",
       "      <th>Plan_type</th>\n",
       "      <th>last_plan_used</th>\n",
       "      <th>year_of_registration</th>\n",
       "      <th>year_of_churn</th>\n",
       "      <th>Log_Lifetime_data_usage</th>\n",
       "      <th>Log_Churn</th>\n",
       "      <th>Log_Lifetime_money_spent</th>\n",
       "      <th>Log_Plans_switch</th>\n",
       "      <th>Log_Dependents</th>\n",
       "    </tr>\n",
       "  </thead>\n",
       "  <tbody>\n",
       "    <tr>\n",
       "      <th>0</th>\n",
       "      <td>0</td>\n",
       "      <td>57</td>\n",
       "      <td>5616</td>\n",
       "      <td>0</td>\n",
       "      <td>31837</td>\n",
       "      <td>2</td>\n",
       "      <td>1</td>\n",
       "      <td>0</td>\n",
       "      <td>27</td>\n",
       "      <td>2018</td>\n",
       "      <td>NaN</td>\n",
       "      <td>8.633553</td>\n",
       "      <td>0.000000</td>\n",
       "      <td>10.368416</td>\n",
       "      <td>1.098612</td>\n",
       "      <td>0.693147</td>\n",
       "    </tr>\n",
       "    <tr>\n",
       "      <th>1</th>\n",
       "      <td>0</td>\n",
       "      <td>38</td>\n",
       "      <td>3700</td>\n",
       "      <td>1</td>\n",
       "      <td>26854</td>\n",
       "      <td>2</td>\n",
       "      <td>1</td>\n",
       "      <td>0</td>\n",
       "      <td>27</td>\n",
       "      <td>2018</td>\n",
       "      <td>2023.0</td>\n",
       "      <td>8.216358</td>\n",
       "      <td>0.693147</td>\n",
       "      <td>10.198207</td>\n",
       "      <td>1.098612</td>\n",
       "      <td>0.693147</td>\n",
       "    </tr>\n",
       "    <tr>\n",
       "      <th>2</th>\n",
       "      <td>1</td>\n",
       "      <td>40</td>\n",
       "      <td>4368</td>\n",
       "      <td>0</td>\n",
       "      <td>25148</td>\n",
       "      <td>2</td>\n",
       "      <td>1</td>\n",
       "      <td>1</td>\n",
       "      <td>24</td>\n",
       "      <td>2018</td>\n",
       "      <td>NaN</td>\n",
       "      <td>8.382289</td>\n",
       "      <td>0.000000</td>\n",
       "      <td>10.132573</td>\n",
       "      <td>1.098612</td>\n",
       "      <td>0.693147</td>\n",
       "    </tr>\n",
       "    <tr>\n",
       "      <th>3</th>\n",
       "      <td>1</td>\n",
       "      <td>39</td>\n",
       "      <td>1684</td>\n",
       "      <td>1</td>\n",
       "      <td>9226</td>\n",
       "      <td>2</td>\n",
       "      <td>1</td>\n",
       "      <td>1</td>\n",
       "      <td>22</td>\n",
       "      <td>2018</td>\n",
       "      <td>2020.0</td>\n",
       "      <td>7.429521</td>\n",
       "      <td>0.693147</td>\n",
       "      <td>9.129889</td>\n",
       "      <td>1.098612</td>\n",
       "      <td>0.693147</td>\n",
       "    </tr>\n",
       "    <tr>\n",
       "      <th>4</th>\n",
       "      <td>0</td>\n",
       "      <td>19</td>\n",
       "      <td>4816</td>\n",
       "      <td>0</td>\n",
       "      <td>27130</td>\n",
       "      <td>3</td>\n",
       "      <td>1</td>\n",
       "      <td>1</td>\n",
       "      <td>10</td>\n",
       "      <td>2018</td>\n",
       "      <td>NaN</td>\n",
       "      <td>8.479907</td>\n",
       "      <td>0.000000</td>\n",
       "      <td>10.208432</td>\n",
       "      <td>1.386294</td>\n",
       "      <td>0.693147</td>\n",
       "    </tr>\n",
       "  </tbody>\n",
       "</table>\n",
       "</div>"
      ],
      "text/plain": [
       "   Gender  Age  Lifetime_data_usage  Churn  Lifetime_money_spent  \\\n",
       "0       0   57                 5616      0                 31837   \n",
       "1       0   38                 3700      1                 26854   \n",
       "2       1   40                 4368      0                 25148   \n",
       "3       1   39                 1684      1                  9226   \n",
       "4       0   19                 4816      0                 27130   \n",
       "\n",
       "   Plans_switch  Dependents  Plan_type  last_plan_used  year_of_registration  \\\n",
       "0             2           1          0              27                  2018   \n",
       "1             2           1          0              27                  2018   \n",
       "2             2           1          1              24                  2018   \n",
       "3             2           1          1              22                  2018   \n",
       "4             3           1          1              10                  2018   \n",
       "\n",
       "   year_of_churn  Log_Lifetime_data_usage  Log_Churn  \\\n",
       "0            NaN                 8.633553   0.000000   \n",
       "1         2023.0                 8.216358   0.693147   \n",
       "2            NaN                 8.382289   0.000000   \n",
       "3         2020.0                 7.429521   0.693147   \n",
       "4            NaN                 8.479907   0.000000   \n",
       "\n",
       "   Log_Lifetime_money_spent  Log_Plans_switch  Log_Dependents  \n",
       "0                 10.368416          1.098612        0.693147  \n",
       "1                 10.198207          1.098612        0.693147  \n",
       "2                 10.132573          1.098612        0.693147  \n",
       "3                  9.129889          1.098612        0.693147  \n",
       "4                 10.208432          1.386294        0.693147  "
      ]
     },
     "execution_count": 51,
     "metadata": {},
     "output_type": "execute_result"
    }
   ],
   "source": [
    "data.head()"
   ]
  },
  {
   "cell_type": "markdown",
   "id": "36f3e447",
   "metadata": {},
   "source": [
    "## defining print_score_function"
   ]
  },
  {
   "cell_type": "code",
   "execution_count": 52,
   "id": "1ac3b46a",
   "metadata": {},
   "outputs": [],
   "source": [
    "def print_score(clf, X_train, y_train, X_test, y_test, train=True):\n",
    "    if train:\n",
    "        pred = clf.predict(X_train)\n",
    "        clf_report = pd.DataFrame(classification_report(y_train, pred, output_dict=True))\n",
    "        print(\"Train Result:\\n================================================\")\n",
    "        print(f\"Accuracy Score: {accuracy_score(y_train, pred) * 100:.2f}%\")\n",
    "        print(\"_______________________________________________\")\n",
    "        print(f\"CLASSIFICATION REPORT:\\n{clf_report}\")\n",
    "        print(\"_______________________________________________\")\n",
    "        print(f\"Confusion Matrix: \\n {confusion_matrix(y_train, pred)}\\n\")\n",
    "        \n",
    "    elif train==False:\n",
    "        pred = clf.predict(X_test)\n",
    "        clf_report = pd.DataFrame(classification_report(y_test, pred, output_dict=True))\n",
    "        print(\"Test Result:\\n================================================\")        \n",
    "        print(f\"Accuracy Score: {accuracy_score(y_test, pred) * 100:.2f}%\")\n",
    "        print(\"_______________________________________________\")\n",
    "        print(f\"CLASSIFICATION REPORT:\\n{clf_report}\")\n",
    "        print(\"_______________________________________________\")\n",
    "        print(f\"Confusion Matrix: \\n {confusion_matrix(y_test, pred)}\\n\")"
   ]
  },
  {
   "cell_type": "code",
   "execution_count": 53,
   "id": "17fb7575",
   "metadata": {},
   "outputs": [],
   "source": [
    "data['Churn'] = data['Churn'].astype('category')"
   ]
  },
  {
   "cell_type": "markdown",
   "id": "70ee4455",
   "metadata": {},
   "source": [
    "# Extracting X and y"
   ]
  },
  {
   "cell_type": "code",
   "execution_count": 54,
   "id": "80eca57e",
   "metadata": {},
   "outputs": [
    {
     "name": "stdout",
     "output_type": "stream",
     "text": [
      "<class 'pandas.core.frame.DataFrame'>\n",
      "RangeIndex: 2000 entries, 0 to 1999\n",
      "Data columns (total 9 columns):\n",
      " #   Column                    Non-Null Count  Dtype  \n",
      "---  ------                    --------------  -----  \n",
      " 0   Gender                    2000 non-null   int32  \n",
      " 1   Age                       2000 non-null   int64  \n",
      " 2   Plan_type                 2000 non-null   int32  \n",
      " 3   last_plan_used            2000 non-null   int64  \n",
      " 4   year_of_registration      2000 non-null   int64  \n",
      " 5   Log_Lifetime_data_usage   2000 non-null   float64\n",
      " 6   Log_Lifetime_money_spent  2000 non-null   float64\n",
      " 7   Log_Plans_switch          2000 non-null   float64\n",
      " 8   Log_Dependents            2000 non-null   float64\n",
      "dtypes: float64(4), int32(2), int64(3)\n",
      "memory usage: 125.1 KB\n",
      "<class 'pandas.core.series.Series'>\n",
      "RangeIndex: 2000 entries, 0 to 1999\n",
      "Series name: Churn\n",
      "Non-Null Count  Dtype   \n",
      "--------------  -----   \n",
      "2000 non-null   category\n",
      "dtypes: category(1)\n",
      "memory usage: 2.2 KB\n"
     ]
    }
   ],
   "source": [
    "X = data.drop(['Lifetime_data_usage', 'Churn', 'Lifetime_money_spent', 'Plans_switch', 'Dependents','Log_Churn','year_of_churn'],axis=1,inplace=False)\n",
    "y = data['Churn']\n",
    "X.info()\n",
    "y.info()"
   ]
  },
  {
   "cell_type": "code",
   "execution_count": 55,
   "id": "c6abc354",
   "metadata": {},
   "outputs": [],
   "source": [
    "X_train,X_test,y_train,y_test = train_test_split(X , y , test_size = 0.30, random_state = 42)"
   ]
  },
  {
   "cell_type": "code",
   "execution_count": 56,
   "id": "229c82a4",
   "metadata": {},
   "outputs": [],
   "source": [
    "# y_train = y_train.astype('category')\n"
   ]
  },
  {
   "cell_type": "markdown",
   "id": "ec10228e",
   "metadata": {},
   "source": [
    "# Scaling the Features"
   ]
  },
  {
   "cell_type": "markdown",
   "id": "61964012",
   "metadata": {},
   "source": [
    "#### standard Scaling"
   ]
  },
  {
   "cell_type": "code",
   "execution_count": 57,
   "id": "7699947f",
   "metadata": {},
   "outputs": [],
   "source": [
    "# standard scaling\n",
    "st_x= StandardScaler()    \n",
    "X_train_st= st_x.fit_transform(X_train)    \n",
    "X_test_st= st_x.transform(X_test) "
   ]
  },
  {
   "cell_type": "markdown",
   "id": "6f9f67ac",
   "metadata": {},
   "source": [
    "#### MinMax Scaling"
   ]
  },
  {
   "cell_type": "code",
   "execution_count": 58,
   "id": "2678c8d3",
   "metadata": {},
   "outputs": [],
   "source": [
    "# MinMaxScaler\n",
    "MM_scaler = MinMaxScaler()\n",
    "X_train_MM = MM_scaler.fit_transform(X_train)\n",
    "X_test_MM = MM_scaler.transform(X_test)"
   ]
  },
  {
   "cell_type": "markdown",
   "id": "30cfdfcf",
   "metadata": {},
   "source": [
    "# Cross Validation"
   ]
  },
  {
   "cell_type": "code",
   "execution_count": 59,
   "id": "fd25e36a",
   "metadata": {},
   "outputs": [],
   "source": [
    "num_folds = 5\n",
    "kf = KFold(n_splits=num_folds, shuffle=True, random_state=42)"
   ]
  },
  {
   "cell_type": "markdown",
   "id": "f2cc8b89",
   "metadata": {},
   "source": [
    "# Logistic Regression"
   ]
  },
  {
   "cell_type": "markdown",
   "id": "d075ad72",
   "metadata": {},
   "source": [
    "### Without scaled features"
   ]
  },
  {
   "cell_type": "code",
   "execution_count": 60,
   "id": "12979875",
   "metadata": {},
   "outputs": [
    {
     "name": "stderr",
     "output_type": "stream",
     "text": [
      "C:\\Users\\JUBI RANKA\\anaconda3\\Lib\\site-packages\\sklearn\\linear_model\\_logistic.py:458: ConvergenceWarning: lbfgs failed to converge (status=1):\n",
      "STOP: TOTAL NO. of ITERATIONS REACHED LIMIT.\n",
      "\n",
      "Increase the number of iterations (max_iter) or scale the data as shown in:\n",
      "    https://scikit-learn.org/stable/modules/preprocessing.html\n",
      "Please also refer to the documentation for alternative solver options:\n",
      "    https://scikit-learn.org/stable/modules/linear_model.html#logistic-regression\n",
      "  n_iter_i = _check_optimize_result(\n"
     ]
    },
    {
     "data": {
      "text/html": [
       "<style>#sk-container-id-1 {color: black;background-color: white;}#sk-container-id-1 pre{padding: 0;}#sk-container-id-1 div.sk-toggleable {background-color: white;}#sk-container-id-1 label.sk-toggleable__label {cursor: pointer;display: block;width: 100%;margin-bottom: 0;padding: 0.3em;box-sizing: border-box;text-align: center;}#sk-container-id-1 label.sk-toggleable__label-arrow:before {content: \"▸\";float: left;margin-right: 0.25em;color: #696969;}#sk-container-id-1 label.sk-toggleable__label-arrow:hover:before {color: black;}#sk-container-id-1 div.sk-estimator:hover label.sk-toggleable__label-arrow:before {color: black;}#sk-container-id-1 div.sk-toggleable__content {max-height: 0;max-width: 0;overflow: hidden;text-align: left;background-color: #f0f8ff;}#sk-container-id-1 div.sk-toggleable__content pre {margin: 0.2em;color: black;border-radius: 0.25em;background-color: #f0f8ff;}#sk-container-id-1 input.sk-toggleable__control:checked~div.sk-toggleable__content {max-height: 200px;max-width: 100%;overflow: auto;}#sk-container-id-1 input.sk-toggleable__control:checked~label.sk-toggleable__label-arrow:before {content: \"▾\";}#sk-container-id-1 div.sk-estimator input.sk-toggleable__control:checked~label.sk-toggleable__label {background-color: #d4ebff;}#sk-container-id-1 div.sk-label input.sk-toggleable__control:checked~label.sk-toggleable__label {background-color: #d4ebff;}#sk-container-id-1 input.sk-hidden--visually {border: 0;clip: rect(1px 1px 1px 1px);clip: rect(1px, 1px, 1px, 1px);height: 1px;margin: -1px;overflow: hidden;padding: 0;position: absolute;width: 1px;}#sk-container-id-1 div.sk-estimator {font-family: monospace;background-color: #f0f8ff;border: 1px dotted black;border-radius: 0.25em;box-sizing: border-box;margin-bottom: 0.5em;}#sk-container-id-1 div.sk-estimator:hover {background-color: #d4ebff;}#sk-container-id-1 div.sk-parallel-item::after {content: \"\";width: 100%;border-bottom: 1px solid gray;flex-grow: 1;}#sk-container-id-1 div.sk-label:hover label.sk-toggleable__label {background-color: #d4ebff;}#sk-container-id-1 div.sk-serial::before {content: \"\";position: absolute;border-left: 1px solid gray;box-sizing: border-box;top: 0;bottom: 0;left: 50%;z-index: 0;}#sk-container-id-1 div.sk-serial {display: flex;flex-direction: column;align-items: center;background-color: white;padding-right: 0.2em;padding-left: 0.2em;position: relative;}#sk-container-id-1 div.sk-item {position: relative;z-index: 1;}#sk-container-id-1 div.sk-parallel {display: flex;align-items: stretch;justify-content: center;background-color: white;position: relative;}#sk-container-id-1 div.sk-item::before, #sk-container-id-1 div.sk-parallel-item::before {content: \"\";position: absolute;border-left: 1px solid gray;box-sizing: border-box;top: 0;bottom: 0;left: 50%;z-index: -1;}#sk-container-id-1 div.sk-parallel-item {display: flex;flex-direction: column;z-index: 1;position: relative;background-color: white;}#sk-container-id-1 div.sk-parallel-item:first-child::after {align-self: flex-end;width: 50%;}#sk-container-id-1 div.sk-parallel-item:last-child::after {align-self: flex-start;width: 50%;}#sk-container-id-1 div.sk-parallel-item:only-child::after {width: 0;}#sk-container-id-1 div.sk-dashed-wrapped {border: 1px dashed gray;margin: 0 0.4em 0.5em 0.4em;box-sizing: border-box;padding-bottom: 0.4em;background-color: white;}#sk-container-id-1 div.sk-label label {font-family: monospace;font-weight: bold;display: inline-block;line-height: 1.2em;}#sk-container-id-1 div.sk-label-container {text-align: center;}#sk-container-id-1 div.sk-container {/* jupyter's `normalize.less` sets `[hidden] { display: none; }` but bootstrap.min.css set `[hidden] { display: none !important; }` so we also need the `!important` here to be able to override the default hidden behavior on the sphinx rendered scikit-learn.org. See: https://github.com/scikit-learn/scikit-learn/issues/21755 */display: inline-block !important;position: relative;}#sk-container-id-1 div.sk-text-repr-fallback {display: none;}</style><div id=\"sk-container-id-1\" class=\"sk-top-container\"><div class=\"sk-text-repr-fallback\"><pre>LogisticRegression(random_state=0)</pre><b>In a Jupyter environment, please rerun this cell to show the HTML representation or trust the notebook. <br />On GitHub, the HTML representation is unable to render, please try loading this page with nbviewer.org.</b></div><div class=\"sk-container\" hidden><div class=\"sk-item\"><div class=\"sk-estimator sk-toggleable\"><input class=\"sk-toggleable__control sk-hidden--visually\" id=\"sk-estimator-id-1\" type=\"checkbox\" checked><label for=\"sk-estimator-id-1\" class=\"sk-toggleable__label sk-toggleable__label-arrow\">LogisticRegression</label><div class=\"sk-toggleable__content\"><pre>LogisticRegression(random_state=0)</pre></div></div></div></div></div>"
      ],
      "text/plain": [
       "LogisticRegression(random_state=0)"
      ]
     },
     "execution_count": 60,
     "metadata": {},
     "output_type": "execute_result"
    }
   ],
   "source": [
    "# without scaled features\n",
    "lr = LogisticRegression(random_state=0)\n",
    "lr.fit(X_train, y_train)"
   ]
  },
  {
   "cell_type": "code",
   "execution_count": 61,
   "id": "2610be48",
   "metadata": {},
   "outputs": [
    {
     "name": "stdout",
     "output_type": "stream",
     "text": [
      "Train Result:\n",
      "================================================\n",
      "Accuracy Score: 88.71%\n",
      "_______________________________________________\n",
      "CLASSIFICATION REPORT:\n",
      "                     0           1  accuracy    macro avg  weighted avg\n",
      "precision     0.885618    0.895735  0.887143     0.890676      0.887967\n",
      "recall        0.979535    0.581538  0.887143     0.780537      0.887143\n",
      "f1-score      0.930212    0.705224  0.887143     0.817718      0.877983\n",
      "support    1075.000000  325.000000  0.887143  1400.000000   1400.000000\n",
      "_______________________________________________\n",
      "Confusion Matrix: \n",
      " [[1053   22]\n",
      " [ 136  189]]\n",
      "\n",
      "Test Result:\n",
      "================================================\n",
      "Accuracy Score: 86.33%\n",
      "_______________________________________________\n",
      "CLASSIFICATION REPORT:\n",
      "                    0           1  accuracy   macro avg  weighted avg\n",
      "precision    0.855731    0.904255  0.863333    0.879993      0.868509\n",
      "recall       0.979638    0.537975  0.863333    0.758806      0.863333\n",
      "f1-score     0.913502    0.674603  0.863333    0.794053      0.850592\n",
      "support    442.000000  158.000000  0.863333  600.000000    600.000000\n",
      "_______________________________________________\n",
      "Confusion Matrix: \n",
      " [[433   9]\n",
      " [ 73  85]]\n",
      "\n"
     ]
    }
   ],
   "source": [
    "print_score(lr, X_train, y_train, X_test, y_test, train=True)\n",
    "print_score(lr, X_train, y_train, X_test, y_test, train=False)"
   ]
  },
  {
   "cell_type": "code",
   "execution_count": 62,
   "id": "586dd303",
   "metadata": {},
   "outputs": [],
   "source": [
    "# the first accuracy is for the training data and the second is for the testing data\n",
    "# it clearly shows that the accuracy is very less so we will have to try other models"
   ]
  },
  {
   "cell_type": "code",
   "execution_count": 63,
   "id": "5f76234e",
   "metadata": {},
   "outputs": [
    {
     "name": "stderr",
     "output_type": "stream",
     "text": [
      "C:\\Users\\JUBI RANKA\\anaconda3\\Lib\\site-packages\\sklearn\\linear_model\\_logistic.py:458: ConvergenceWarning: lbfgs failed to converge (status=1):\n",
      "STOP: TOTAL NO. of ITERATIONS REACHED LIMIT.\n",
      "\n",
      "Increase the number of iterations (max_iter) or scale the data as shown in:\n",
      "    https://scikit-learn.org/stable/modules/preprocessing.html\n",
      "Please also refer to the documentation for alternative solver options:\n",
      "    https://scikit-learn.org/stable/modules/linear_model.html#logistic-regression\n",
      "  n_iter_i = _check_optimize_result(\n",
      "C:\\Users\\JUBI RANKA\\anaconda3\\Lib\\site-packages\\sklearn\\linear_model\\_logistic.py:458: ConvergenceWarning: lbfgs failed to converge (status=1):\n",
      "STOP: TOTAL NO. of ITERATIONS REACHED LIMIT.\n",
      "\n",
      "Increase the number of iterations (max_iter) or scale the data as shown in:\n",
      "    https://scikit-learn.org/stable/modules/preprocessing.html\n",
      "Please also refer to the documentation for alternative solver options:\n",
      "    https://scikit-learn.org/stable/modules/linear_model.html#logistic-regression\n",
      "  n_iter_i = _check_optimize_result(\n",
      "C:\\Users\\JUBI RANKA\\anaconda3\\Lib\\site-packages\\sklearn\\linear_model\\_logistic.py:458: ConvergenceWarning: lbfgs failed to converge (status=1):\n",
      "STOP: TOTAL NO. of ITERATIONS REACHED LIMIT.\n",
      "\n",
      "Increase the number of iterations (max_iter) or scale the data as shown in:\n",
      "    https://scikit-learn.org/stable/modules/preprocessing.html\n",
      "Please also refer to the documentation for alternative solver options:\n",
      "    https://scikit-learn.org/stable/modules/linear_model.html#logistic-regression\n",
      "  n_iter_i = _check_optimize_result(\n",
      "C:\\Users\\JUBI RANKA\\anaconda3\\Lib\\site-packages\\sklearn\\linear_model\\_logistic.py:458: ConvergenceWarning: lbfgs failed to converge (status=1):\n",
      "STOP: TOTAL NO. of ITERATIONS REACHED LIMIT.\n",
      "\n",
      "Increase the number of iterations (max_iter) or scale the data as shown in:\n",
      "    https://scikit-learn.org/stable/modules/preprocessing.html\n",
      "Please also refer to the documentation for alternative solver options:\n",
      "    https://scikit-learn.org/stable/modules/linear_model.html#logistic-regression\n",
      "  n_iter_i = _check_optimize_result(\n"
     ]
    }
   ],
   "source": [
    "# performing cross validation to train the data better\n",
    "cross_val_results_lr = cross_val_score(lr, X, y, cv=kf)"
   ]
  },
  {
   "cell_type": "code",
   "execution_count": 64,
   "id": "884335af",
   "metadata": {},
   "outputs": [
    {
     "name": "stdout",
     "output_type": "stream",
     "text": [
      "Cross-Validation Results (Accuracy): [0.8425 0.8925 0.8975 0.8625 0.8725]\n",
      "Mean Accuracy: 0.8734999999999999\n"
     ]
    }
   ],
   "source": [
    "print(f'Cross-Validation Results (Accuracy): {cross_val_results_lr}')\n",
    "print(f'Mean Accuracy: {cross_val_results_lr.mean()}')"
   ]
  },
  {
   "cell_type": "code",
   "execution_count": 65,
   "id": "fcb3eaf7",
   "metadata": {},
   "outputs": [],
   "source": [
    "# This prints the accuracy score obtained from each fold of the cross-validation."
   ]
  },
  {
   "cell_type": "code",
   "execution_count": 66,
   "id": "56869bd2",
   "metadata": {},
   "outputs": [],
   "source": [
    "# the accuracy scores are still low, even after doing cross validation therefore we would not conisder logistic regression model"
   ]
  },
  {
   "cell_type": "markdown",
   "id": "e3970e35",
   "metadata": {},
   "source": [
    "### With standardScaled Features"
   ]
  },
  {
   "cell_type": "code",
   "execution_count": null,
   "id": "255a9d44",
   "metadata": {},
   "outputs": [],
   "source": [
    "lr.fit(X_train_st, y_train)"
   ]
  },
  {
   "cell_type": "code",
   "execution_count": null,
   "id": "21dcfda5",
   "metadata": {},
   "outputs": [
    {
     "name": "stdout",
     "output_type": "stream",
     "text": [
      "Train Result:\n",
      "================================================\n",
      "Accuracy Score: 92.14%\n",
      "_______________________________________________\n",
      "CLASSIFICATION REPORT:\n",
      "                     0           1  accuracy    macro avg  weighted avg\n",
      "precision     0.912746    0.965368  0.921429     0.939057      0.924962\n",
      "recall        0.992558    0.686154  0.921429     0.839356      0.921429\n",
      "f1-score      0.950980    0.802158  0.921429     0.876569      0.916432\n",
      "support    1075.000000  325.000000  0.921429  1400.000000   1400.000000\n",
      "_______________________________________________\n",
      "Confusion Matrix: \n",
      " [[1067    8]\n",
      " [ 102  223]]\n",
      "\n",
      "Test Result:\n",
      "================================================\n",
      "Accuracy Score: 90.00%\n",
      "_______________________________________________\n",
      "CLASSIFICATION REPORT:\n",
      "                    0           1  accuracy   macro avg  weighted avg\n",
      "precision    0.889796    0.945455       0.9    0.917625      0.904453\n",
      "recall       0.986425    0.658228       0.9    0.822327      0.900000\n",
      "f1-score     0.935622    0.776119       0.9    0.855871      0.893620\n",
      "support    442.000000  158.000000       0.9  600.000000    600.000000\n",
      "_______________________________________________\n",
      "Confusion Matrix: \n",
      " [[436   6]\n",
      " [ 54 104]]\n",
      "\n"
     ]
    }
   ],
   "source": [
    "print_score(lr, X_train_st, y_train, X_test_st, y_test, train=True)\n",
    "print_score(lr, X_train_st, y_train, X_test_st, y_test, train=False)"
   ]
  },
  {
   "cell_type": "code",
   "execution_count": 111,
   "id": "d5c4f9bd",
   "metadata": {},
   "outputs": [
    {
     "data": {
      "image/png": "[encoded data removed]",
      "text/plain": [
       "<Figure size 640x480 with 1 Axes>"
      ]
     },
     "metadata": {},
     "output_type": "display_data"
    }
   ],
   "source": [
    "# AUC ROC CURVE\n",
    "y_predprob=lr.predict_proba(X_test_st)\n",
    "fpr,tpr,threshold = roc_curve(y_test,y_predprob[:,1])\n",
    "plt.plot(fpr,tpr)\n",
    "plt.xlabel('False positive rate')\n",
    "plt.ylabel('True positive rate')\n",
    "plt.title('ROC curve')\n",
    "plt.savefig('ROC_curve.png')"
   ]
  },
  {
   "cell_type": "code",
   "execution_count": 112,
   "id": "52330d37",
   "metadata": {},
   "outputs": [
    {
     "data": {
      "text/plain": [
       "0.8583824961337991"
      ]
     },
     "execution_count": 112,
     "metadata": {},
     "output_type": "execute_result"
    }
   ],
   "source": [
    "auc(fpr,tpr)"
   ]
  },
  {
   "cell_type": "markdown",
   "id": "0dbc6c78",
   "metadata": {},
   "source": [
    "### With MinMaxScaler"
   ]
  },
  {
   "cell_type": "code",
   "execution_count": 69,
   "id": "1e3f8200",
   "metadata": {},
   "outputs": [
    {
     "data": {
      "text/html": [
       "<style>#sk-container-id-3 {color: black;background-color: white;}#sk-container-id-3 pre{padding: 0;}#sk-container-id-3 div.sk-toggleable {background-color: white;}#sk-container-id-3 label.sk-toggleable__label {cursor: pointer;display: block;width: 100%;margin-bottom: 0;padding: 0.3em;box-sizing: border-box;text-align: center;}#sk-container-id-3 label.sk-toggleable__label-arrow:before {content: \"▸\";float: left;margin-right: 0.25em;color: #696969;}#sk-container-id-3 label.sk-toggleable__label-arrow:hover:before {color: black;}#sk-container-id-3 div.sk-estimator:hover label.sk-toggleable__label-arrow:before {color: black;}#sk-container-id-3 div.sk-toggleable__content {max-height: 0;max-width: 0;overflow: hidden;text-align: left;background-color: #f0f8ff;}#sk-container-id-3 div.sk-toggleable__content pre {margin: 0.2em;color: black;border-radius: 0.25em;background-color: #f0f8ff;}#sk-container-id-3 input.sk-toggleable__control:checked~div.sk-toggleable__content {max-height: 200px;max-width: 100%;overflow: auto;}#sk-container-id-3 input.sk-toggleable__control:checked~label.sk-toggleable__label-arrow:before {content: \"▾\";}#sk-container-id-3 div.sk-estimator input.sk-toggleable__control:checked~label.sk-toggleable__label {background-color: #d4ebff;}#sk-container-id-3 div.sk-label input.sk-toggleable__control:checked~label.sk-toggleable__label {background-color: #d4ebff;}#sk-container-id-3 input.sk-hidden--visually {border: 0;clip: rect(1px 1px 1px 1px);clip: rect(1px, 1px, 1px, 1px);height: 1px;margin: -1px;overflow: hidden;padding: 0;position: absolute;width: 1px;}#sk-container-id-3 div.sk-estimator {font-family: monospace;background-color: #f0f8ff;border: 1px dotted black;border-radius: 0.25em;box-sizing: border-box;margin-bottom: 0.5em;}#sk-container-id-3 div.sk-estimator:hover {background-color: #d4ebff;}#sk-container-id-3 div.sk-parallel-item::after {content: \"\";width: 100%;border-bottom: 1px solid gray;flex-grow: 1;}#sk-container-id-3 div.sk-label:hover label.sk-toggleable__label {background-color: #d4ebff;}#sk-container-id-3 div.sk-serial::before {content: \"\";position: absolute;border-left: 1px solid gray;box-sizing: border-box;top: 0;bottom: 0;left: 50%;z-index: 0;}#sk-container-id-3 div.sk-serial {display: flex;flex-direction: column;align-items: center;background-color: white;padding-right: 0.2em;padding-left: 0.2em;position: relative;}#sk-container-id-3 div.sk-item {position: relative;z-index: 1;}#sk-container-id-3 div.sk-parallel {display: flex;align-items: stretch;justify-content: center;background-color: white;position: relative;}#sk-container-id-3 div.sk-item::before, #sk-container-id-3 div.sk-parallel-item::before {content: \"\";position: absolute;border-left: 1px solid gray;box-sizing: border-box;top: 0;bottom: 0;left: 50%;z-index: -1;}#sk-container-id-3 div.sk-parallel-item {display: flex;flex-direction: column;z-index: 1;position: relative;background-color: white;}#sk-container-id-3 div.sk-parallel-item:first-child::after {align-self: flex-end;width: 50%;}#sk-container-id-3 div.sk-parallel-item:last-child::after {align-self: flex-start;width: 50%;}#sk-container-id-3 div.sk-parallel-item:only-child::after {width: 0;}#sk-container-id-3 div.sk-dashed-wrapped {border: 1px dashed gray;margin: 0 0.4em 0.5em 0.4em;box-sizing: border-box;padding-bottom: 0.4em;background-color: white;}#sk-container-id-3 div.sk-label label {font-family: monospace;font-weight: bold;display: inline-block;line-height: 1.2em;}#sk-container-id-3 div.sk-label-container {text-align: center;}#sk-container-id-3 div.sk-container {/* jupyter's `normalize.less` sets `[hidden] { display: none; }` but bootstrap.min.css set `[hidden] { display: none !important; }` so we also need the `!important` here to be able to override the default hidden behavior on the sphinx rendered scikit-learn.org. See: https://github.com/scikit-learn/scikit-learn/issues/21755 */display: inline-block !important;position: relative;}#sk-container-id-3 div.sk-text-repr-fallback {display: none;}</style><div id=\"sk-container-id-3\" class=\"sk-top-container\"><div class=\"sk-text-repr-fallback\"><pre>LogisticRegression(random_state=0)</pre><b>In a Jupyter environment, please rerun this cell to show the HTML representation or trust the notebook. <br />On GitHub, the HTML representation is unable to render, please try loading this page with nbviewer.org.</b></div><div class=\"sk-container\" hidden><div class=\"sk-item\"><div class=\"sk-estimator sk-toggleable\"><input class=\"sk-toggleable__control sk-hidden--visually\" id=\"sk-estimator-id-3\" type=\"checkbox\" checked><label for=\"sk-estimator-id-3\" class=\"sk-toggleable__label sk-toggleable__label-arrow\">LogisticRegression</label><div class=\"sk-toggleable__content\"><pre>LogisticRegression(random_state=0)</pre></div></div></div></div></div>"
      ],
      "text/plain": [
       "LogisticRegression(random_state=0)"
      ]
     },
     "execution_count": 69,
     "metadata": {},
     "output_type": "execute_result"
    }
   ],
   "source": [
    "lr.fit(X_train_MM, y_train)"
   ]
  },
  {
   "cell_type": "code",
   "execution_count": 70,
   "id": "33390f02",
   "metadata": {},
   "outputs": [
    {
     "name": "stdout",
     "output_type": "stream",
     "text": [
      "Train Result:\n",
      "================================================\n",
      "Accuracy Score: 86.50%\n",
      "_______________________________________________\n",
      "CLASSIFICATION REPORT:\n",
      "                     0           1  accuracy    macro avg  weighted avg\n",
      "precision     0.851030    0.992754     0.865     0.921892      0.883930\n",
      "recall        0.999070    0.421538     0.865     0.710304      0.865000\n",
      "f1-score      0.919127    0.591793     0.865     0.755460      0.843139\n",
      "support    1075.000000  325.000000     0.865  1400.000000   1400.000000\n",
      "_______________________________________________\n",
      "Confusion Matrix: \n",
      " [[1074    1]\n",
      " [ 188  137]]\n",
      "\n",
      "Test Result:\n",
      "================================================\n",
      "Accuracy Score: 85.00%\n",
      "_______________________________________________\n",
      "CLASSIFICATION REPORT:\n",
      "                    0          1  accuracy   macro avg  weighted avg\n",
      "precision    0.830827    1.00000      0.85    0.915414      0.875376\n",
      "recall       1.000000    0.43038      0.85    0.715190      0.850000\n",
      "f1-score     0.907598    0.60177      0.85    0.754684      0.827063\n",
      "support    442.000000  158.00000      0.85  600.000000    600.000000\n",
      "_______________________________________________\n",
      "Confusion Matrix: \n",
      " [[442   0]\n",
      " [ 90  68]]\n",
      "\n"
     ]
    }
   ],
   "source": [
    "print_score(lr, X_train_MM, y_train, X_test_MM, y_test, train=True)\n",
    "print_score(lr, X_train_MM, y_train, X_test_MM, y_test, train=False)"
   ]
  },
  {
   "cell_type": "markdown",
   "id": "9d331534",
   "metadata": {},
   "source": [
    "# Decision Tree"
   ]
  },
  {
   "cell_type": "code",
   "execution_count": 72,
   "id": "951066a1",
   "metadata": {},
   "outputs": [
    {
     "data": {
      "text/html": [
       "<style>#sk-container-id-5 {color: black;background-color: white;}#sk-container-id-5 pre{padding: 0;}#sk-container-id-5 div.sk-toggleable {background-color: white;}#sk-container-id-5 label.sk-toggleable__label {cursor: pointer;display: block;width: 100%;margin-bottom: 0;padding: 0.3em;box-sizing: border-box;text-align: center;}#sk-container-id-5 label.sk-toggleable__label-arrow:before {content: \"▸\";float: left;margin-right: 0.25em;color: #696969;}#sk-container-id-5 label.sk-toggleable__label-arrow:hover:before {color: black;}#sk-container-id-5 div.sk-estimator:hover label.sk-toggleable__label-arrow:before {color: black;}#sk-container-id-5 div.sk-toggleable__content {max-height: 0;max-width: 0;overflow: hidden;text-align: left;background-color: #f0f8ff;}#sk-container-id-5 div.sk-toggleable__content pre {margin: 0.2em;color: black;border-radius: 0.25em;background-color: #f0f8ff;}#sk-container-id-5 input.sk-toggleable__control:checked~div.sk-toggleable__content {max-height: 200px;max-width: 100%;overflow: auto;}#sk-container-id-5 input.sk-toggleable__control:checked~label.sk-toggleable__label-arrow:before {content: \"▾\";}#sk-container-id-5 div.sk-estimator input.sk-toggleable__control:checked~label.sk-toggleable__label {background-color: #d4ebff;}#sk-container-id-5 div.sk-label input.sk-toggleable__control:checked~label.sk-toggleable__label {background-color: #d4ebff;}#sk-container-id-5 input.sk-hidden--visually {border: 0;clip: rect(1px 1px 1px 1px);clip: rect(1px, 1px, 1px, 1px);height: 1px;margin: -1px;overflow: hidden;padding: 0;position: absolute;width: 1px;}#sk-container-id-5 div.sk-estimator {font-family: monospace;background-color: #f0f8ff;border: 1px dotted black;border-radius: 0.25em;box-sizing: border-box;margin-bottom: 0.5em;}#sk-container-id-5 div.sk-estimator:hover {background-color: #d4ebff;}#sk-container-id-5 div.sk-parallel-item::after {content: \"\";width: 100%;border-bottom: 1px solid gray;flex-grow: 1;}#sk-container-id-5 div.sk-label:hover label.sk-toggleable__label {background-color: #d4ebff;}#sk-container-id-5 div.sk-serial::before {content: \"\";position: absolute;border-left: 1px solid gray;box-sizing: border-box;top: 0;bottom: 0;left: 50%;z-index: 0;}#sk-container-id-5 div.sk-serial {display: flex;flex-direction: column;align-items: center;background-color: white;padding-right: 0.2em;padding-left: 0.2em;position: relative;}#sk-container-id-5 div.sk-item {position: relative;z-index: 1;}#sk-container-id-5 div.sk-parallel {display: flex;align-items: stretch;justify-content: center;background-color: white;position: relative;}#sk-container-id-5 div.sk-item::before, #sk-container-id-5 div.sk-parallel-item::before {content: \"\";position: absolute;border-left: 1px solid gray;box-sizing: border-box;top: 0;bottom: 0;left: 50%;z-index: -1;}#sk-container-id-5 div.sk-parallel-item {display: flex;flex-direction: column;z-index: 1;position: relative;background-color: white;}#sk-container-id-5 div.sk-parallel-item:first-child::after {align-self: flex-end;width: 50%;}#sk-container-id-5 div.sk-parallel-item:last-child::after {align-self: flex-start;width: 50%;}#sk-container-id-5 div.sk-parallel-item:only-child::after {width: 0;}#sk-container-id-5 div.sk-dashed-wrapped {border: 1px dashed gray;margin: 0 0.4em 0.5em 0.4em;box-sizing: border-box;padding-bottom: 0.4em;background-color: white;}#sk-container-id-5 div.sk-label label {font-family: monospace;font-weight: bold;display: inline-block;line-height: 1.2em;}#sk-container-id-5 div.sk-label-container {text-align: center;}#sk-container-id-5 div.sk-container {/* jupyter's `normalize.less` sets `[hidden] { display: none; }` but bootstrap.min.css set `[hidden] { display: none !important; }` so we also need the `!important` here to be able to override the default hidden behavior on the sphinx rendered scikit-learn.org. See: https://github.com/scikit-learn/scikit-learn/issues/21755 */display: inline-block !important;position: relative;}#sk-container-id-5 div.sk-text-repr-fallback {display: none;}</style><div id=\"sk-container-id-5\" class=\"sk-top-container\"><div class=\"sk-text-repr-fallback\"><pre>DecisionTreeClassifier()</pre><b>In a Jupyter environment, please rerun this cell to show the HTML representation or trust the notebook. <br />On GitHub, the HTML representation is unable to render, please try loading this page with nbviewer.org.</b></div><div class=\"sk-container\" hidden><div class=\"sk-item\"><div class=\"sk-estimator sk-toggleable\"><input class=\"sk-toggleable__control sk-hidden--visually\" id=\"sk-estimator-id-5\" type=\"checkbox\" checked><label for=\"sk-estimator-id-5\" class=\"sk-toggleable__label sk-toggleable__label-arrow\">DecisionTreeClassifier</label><div class=\"sk-toggleable__content\"><pre>DecisionTreeClassifier()</pre></div></div></div></div></div>"
      ],
      "text/plain": [
       "DecisionTreeClassifier()"
      ]
     },
     "execution_count": 72,
     "metadata": {},
     "output_type": "execute_result"
    }
   ],
   "source": [
    "# without using scaled features\n",
    "dtree = DecisionTreeClassifier()\n",
    "dtree.fit(X_train, y_train)"
   ]
  },
  {
   "cell_type": "code",
   "execution_count": 73,
   "id": "f438eb5b",
   "metadata": {},
   "outputs": [],
   "source": [
    "# print_score(dtree, X_train, y_train, X_test, y_test, train=True)\n",
    "# print_score(dtree, X_train, y_train, X_test, y_test, train=False)"
   ]
  },
  {
   "cell_type": "code",
   "execution_count": 74,
   "id": "4af6559f",
   "metadata": {},
   "outputs": [],
   "source": [
    "# features = X.columns\n",
    "# tree.plot_tree(dtree, feature_names=features)"
   ]
  },
  {
   "cell_type": "code",
   "execution_count": 75,
   "id": "8723314f",
   "metadata": {},
   "outputs": [
    {
     "name": "stdout",
     "output_type": "stream",
     "text": [
      "Accuracy: 0.86\n",
      "Precision: 0.74\n",
      "Recall: 0.72\n"
     ]
    }
   ],
   "source": [
    "# step 4: predicting\n",
    "y_pred = dtree.predict(X_test)\n",
    "\n",
    "# step 5: model performance evaluation (accuracy)\n",
    "accuracy = accuracy_score(y_test, y_pred)\n",
    "precision = precision_score(y_test, y_pred)\n",
    "recall = recall_score(y_test, y_pred)\n",
    "\n",
    "# Print results\n",
    "print('Accuracy:', round(accuracy, 2))\n",
    "print('Precision:', round(precision, 2))\n",
    "print('Recall:', round(recall, 2))"
   ]
  },
  {
   "cell_type": "code",
   "execution_count": 76,
   "id": "c3839b55",
   "metadata": {},
   "outputs": [],
   "source": [
    "cross_val_results_dtree = cross_val_score(dtree, X, y, cv=kf)"
   ]
  },
  {
   "cell_type": "code",
   "execution_count": 77,
   "id": "0ae41b9d",
   "metadata": {},
   "outputs": [
    {
     "name": "stdout",
     "output_type": "stream",
     "text": [
      "Cross-Validation Results (Accuracy): [0.85   0.8725 0.89   0.8425 0.8625]\n",
      "Mean Accuracy: 0.8634999999999999\n"
     ]
    }
   ],
   "source": [
    "print(f'Cross-Validation Results (Accuracy): {cross_val_results_dtree}')\n",
    "print(f'Mean Accuracy: {cross_val_results_dtree.mean()}')"
   ]
  },
  {
   "cell_type": "code",
   "execution_count": 78,
   "id": "310fa1e5",
   "metadata": {},
   "outputs": [],
   "source": [
    "# model has an accuracy of 66%, meaning it correctly predicts the target in 66% of cases.\n",
    "# However, the precision and recall are both very low at 20% and 23%, respectively. This indicates that:\n",
    "\n",
    "#     Precision is low: The model makes many false positive predictions, labeling non-positive instances as positive.\n",
    "#     Recall is low: The model misses many true positives, meaning it's not good at identifying the positive class \n",
    "#     (e.g., \"churn\" cases, if that’s the target).\n",
    "\n",
    "# The cross-validation accuracy confirms that the model is performing consistently across multiple data splits, with an \n",
    "# average accuracy of around 66%"
   ]
  },
  {
   "cell_type": "code",
   "execution_count": 79,
   "id": "c332b974",
   "metadata": {},
   "outputs": [],
   "source": [
    "# to avoid overfitting of the model "
   ]
  },
  {
   "cell_type": "markdown",
   "id": "ef6cbc5a",
   "metadata": {},
   "source": [
    "### Using standard scalar"
   ]
  },
  {
   "cell_type": "code",
   "execution_count": 80,
   "id": "b7b7d9d6",
   "metadata": {},
   "outputs": [
    {
     "data": {
      "text/html": [
       "<style>#sk-container-id-6 {color: black;background-color: white;}#sk-container-id-6 pre{padding: 0;}#sk-container-id-6 div.sk-toggleable {background-color: white;}#sk-container-id-6 label.sk-toggleable__label {cursor: pointer;display: block;width: 100%;margin-bottom: 0;padding: 0.3em;box-sizing: border-box;text-align: center;}#sk-container-id-6 label.sk-toggleable__label-arrow:before {content: \"▸\";float: left;margin-right: 0.25em;color: #696969;}#sk-container-id-6 label.sk-toggleable__label-arrow:hover:before {color: black;}#sk-container-id-6 div.sk-estimator:hover label.sk-toggleable__label-arrow:before {color: black;}#sk-container-id-6 div.sk-toggleable__content {max-height: 0;max-width: 0;overflow: hidden;text-align: left;background-color: #f0f8ff;}#sk-container-id-6 div.sk-toggleable__content pre {margin: 0.2em;color: black;border-radius: 0.25em;background-color: #f0f8ff;}#sk-container-id-6 input.sk-toggleable__control:checked~div.sk-toggleable__content {max-height: 200px;max-width: 100%;overflow: auto;}#sk-container-id-6 input.sk-toggleable__control:checked~label.sk-toggleable__label-arrow:before {content: \"▾\";}#sk-container-id-6 div.sk-estimator input.sk-toggleable__control:checked~label.sk-toggleable__label {background-color: #d4ebff;}#sk-container-id-6 div.sk-label input.sk-toggleable__control:checked~label.sk-toggleable__label {background-color: #d4ebff;}#sk-container-id-6 input.sk-hidden--visually {border: 0;clip: rect(1px 1px 1px 1px);clip: rect(1px, 1px, 1px, 1px);height: 1px;margin: -1px;overflow: hidden;padding: 0;position: absolute;width: 1px;}#sk-container-id-6 div.sk-estimator {font-family: monospace;background-color: #f0f8ff;border: 1px dotted black;border-radius: 0.25em;box-sizing: border-box;margin-bottom: 0.5em;}#sk-container-id-6 div.sk-estimator:hover {background-color: #d4ebff;}#sk-container-id-6 div.sk-parallel-item::after {content: \"\";width: 100%;border-bottom: 1px solid gray;flex-grow: 1;}#sk-container-id-6 div.sk-label:hover label.sk-toggleable__label {background-color: #d4ebff;}#sk-container-id-6 div.sk-serial::before {content: \"\";position: absolute;border-left: 1px solid gray;box-sizing: border-box;top: 0;bottom: 0;left: 50%;z-index: 0;}#sk-container-id-6 div.sk-serial {display: flex;flex-direction: column;align-items: center;background-color: white;padding-right: 0.2em;padding-left: 0.2em;position: relative;}#sk-container-id-6 div.sk-item {position: relative;z-index: 1;}#sk-container-id-6 div.sk-parallel {display: flex;align-items: stretch;justify-content: center;background-color: white;position: relative;}#sk-container-id-6 div.sk-item::before, #sk-container-id-6 div.sk-parallel-item::before {content: \"\";position: absolute;border-left: 1px solid gray;box-sizing: border-box;top: 0;bottom: 0;left: 50%;z-index: -1;}#sk-container-id-6 div.sk-parallel-item {display: flex;flex-direction: column;z-index: 1;position: relative;background-color: white;}#sk-container-id-6 div.sk-parallel-item:first-child::after {align-self: flex-end;width: 50%;}#sk-container-id-6 div.sk-parallel-item:last-child::after {align-self: flex-start;width: 50%;}#sk-container-id-6 div.sk-parallel-item:only-child::after {width: 0;}#sk-container-id-6 div.sk-dashed-wrapped {border: 1px dashed gray;margin: 0 0.4em 0.5em 0.4em;box-sizing: border-box;padding-bottom: 0.4em;background-color: white;}#sk-container-id-6 div.sk-label label {font-family: monospace;font-weight: bold;display: inline-block;line-height: 1.2em;}#sk-container-id-6 div.sk-label-container {text-align: center;}#sk-container-id-6 div.sk-container {/* jupyter's `normalize.less` sets `[hidden] { display: none; }` but bootstrap.min.css set `[hidden] { display: none !important; }` so we also need the `!important` here to be able to override the default hidden behavior on the sphinx rendered scikit-learn.org. See: https://github.com/scikit-learn/scikit-learn/issues/21755 */display: inline-block !important;position: relative;}#sk-container-id-6 div.sk-text-repr-fallback {display: none;}</style><div id=\"sk-container-id-6\" class=\"sk-top-container\"><div class=\"sk-text-repr-fallback\"><pre>DecisionTreeClassifier()</pre><b>In a Jupyter environment, please rerun this cell to show the HTML representation or trust the notebook. <br />On GitHub, the HTML representation is unable to render, please try loading this page with nbviewer.org.</b></div><div class=\"sk-container\" hidden><div class=\"sk-item\"><div class=\"sk-estimator sk-toggleable\"><input class=\"sk-toggleable__control sk-hidden--visually\" id=\"sk-estimator-id-6\" type=\"checkbox\" checked><label for=\"sk-estimator-id-6\" class=\"sk-toggleable__label sk-toggleable__label-arrow\">DecisionTreeClassifier</label><div class=\"sk-toggleable__content\"><pre>DecisionTreeClassifier()</pre></div></div></div></div></div>"
      ],
      "text/plain": [
       "DecisionTreeClassifier()"
      ]
     },
     "execution_count": 80,
     "metadata": {},
     "output_type": "execute_result"
    }
   ],
   "source": [
    "dtree.fit(X_train_st, y_train)"
   ]
  },
  {
   "cell_type": "code",
   "execution_count": 81,
   "id": "1b8ecc8a",
   "metadata": {},
   "outputs": [
    {
     "name": "stdout",
     "output_type": "stream",
     "text": [
      "Accuracy: 0.86\n",
      "Precision: 0.75\n",
      "Recall: 0.72\n"
     ]
    }
   ],
   "source": [
    "# step 4: predicting\n",
    "y_pred_st = dtree.predict(X_test_st)\n",
    "\n",
    "# step 5: model performance evaluation (accuracy)\n",
    "accuracy = accuracy_score(y_test, y_pred_st)\n",
    "precision = precision_score(y_test, y_pred_st)\n",
    "recall = recall_score(y_test, y_pred_st)\n",
    "\n",
    "# Print results\n",
    "print('Accuracy:', round(accuracy, 2))\n",
    "print('Precision:', round(precision, 2))\n",
    "print('Recall:', round(recall, 2))"
   ]
  },
  {
   "cell_type": "code",
   "execution_count": null,
   "id": "f972e839",
   "metadata": {},
   "outputs": [],
   "source": []
  },
  {
   "cell_type": "code",
   "execution_count": null,
   "id": "f4e37f70",
   "metadata": {},
   "outputs": [],
   "source": []
  },
  {
   "cell_type": "markdown",
   "id": "3db7e8df",
   "metadata": {},
   "source": [
    "# Random forest classifier"
   ]
  },
  {
   "cell_type": "markdown",
   "id": "7c89ee1a",
   "metadata": {},
   "source": [
    "## Using Gini Index"
   ]
  },
  {
   "cell_type": "markdown",
   "id": "ef34f0b1",
   "metadata": {},
   "source": [
    "### without scaled features"
   ]
  },
  {
   "cell_type": "code",
   "execution_count": 82,
   "id": "a04407c8",
   "metadata": {},
   "outputs": [
    {
     "data": {
      "text/html": [
       "<style>#sk-container-id-7 {color: black;background-color: white;}#sk-container-id-7 pre{padding: 0;}#sk-container-id-7 div.sk-toggleable {background-color: white;}#sk-container-id-7 label.sk-toggleable__label {cursor: pointer;display: block;width: 100%;margin-bottom: 0;padding: 0.3em;box-sizing: border-box;text-align: center;}#sk-container-id-7 label.sk-toggleable__label-arrow:before {content: \"▸\";float: left;margin-right: 0.25em;color: #696969;}#sk-container-id-7 label.sk-toggleable__label-arrow:hover:before {color: black;}#sk-container-id-7 div.sk-estimator:hover label.sk-toggleable__label-arrow:before {color: black;}#sk-container-id-7 div.sk-toggleable__content {max-height: 0;max-width: 0;overflow: hidden;text-align: left;background-color: #f0f8ff;}#sk-container-id-7 div.sk-toggleable__content pre {margin: 0.2em;color: black;border-radius: 0.25em;background-color: #f0f8ff;}#sk-container-id-7 input.sk-toggleable__control:checked~div.sk-toggleable__content {max-height: 200px;max-width: 100%;overflow: auto;}#sk-container-id-7 input.sk-toggleable__control:checked~label.sk-toggleable__label-arrow:before {content: \"▾\";}#sk-container-id-7 div.sk-estimator input.sk-toggleable__control:checked~label.sk-toggleable__label {background-color: #d4ebff;}#sk-container-id-7 div.sk-label input.sk-toggleable__control:checked~label.sk-toggleable__label {background-color: #d4ebff;}#sk-container-id-7 input.sk-hidden--visually {border: 0;clip: rect(1px 1px 1px 1px);clip: rect(1px, 1px, 1px, 1px);height: 1px;margin: -1px;overflow: hidden;padding: 0;position: absolute;width: 1px;}#sk-container-id-7 div.sk-estimator {font-family: monospace;background-color: #f0f8ff;border: 1px dotted black;border-radius: 0.25em;box-sizing: border-box;margin-bottom: 0.5em;}#sk-container-id-7 div.sk-estimator:hover {background-color: #d4ebff;}#sk-container-id-7 div.sk-parallel-item::after {content: \"\";width: 100%;border-bottom: 1px solid gray;flex-grow: 1;}#sk-container-id-7 div.sk-label:hover label.sk-toggleable__label {background-color: #d4ebff;}#sk-container-id-7 div.sk-serial::before {content: \"\";position: absolute;border-left: 1px solid gray;box-sizing: border-box;top: 0;bottom: 0;left: 50%;z-index: 0;}#sk-container-id-7 div.sk-serial {display: flex;flex-direction: column;align-items: center;background-color: white;padding-right: 0.2em;padding-left: 0.2em;position: relative;}#sk-container-id-7 div.sk-item {position: relative;z-index: 1;}#sk-container-id-7 div.sk-parallel {display: flex;align-items: stretch;justify-content: center;background-color: white;position: relative;}#sk-container-id-7 div.sk-item::before, #sk-container-id-7 div.sk-parallel-item::before {content: \"\";position: absolute;border-left: 1px solid gray;box-sizing: border-box;top: 0;bottom: 0;left: 50%;z-index: -1;}#sk-container-id-7 div.sk-parallel-item {display: flex;flex-direction: column;z-index: 1;position: relative;background-color: white;}#sk-container-id-7 div.sk-parallel-item:first-child::after {align-self: flex-end;width: 50%;}#sk-container-id-7 div.sk-parallel-item:last-child::after {align-self: flex-start;width: 50%;}#sk-container-id-7 div.sk-parallel-item:only-child::after {width: 0;}#sk-container-id-7 div.sk-dashed-wrapped {border: 1px dashed gray;margin: 0 0.4em 0.5em 0.4em;box-sizing: border-box;padding-bottom: 0.4em;background-color: white;}#sk-container-id-7 div.sk-label label {font-family: monospace;font-weight: bold;display: inline-block;line-height: 1.2em;}#sk-container-id-7 div.sk-label-container {text-align: center;}#sk-container-id-7 div.sk-container {/* jupyter's `normalize.less` sets `[hidden] { display: none; }` but bootstrap.min.css set `[hidden] { display: none !important; }` so we also need the `!important` here to be able to override the default hidden behavior on the sphinx rendered scikit-learn.org. See: https://github.com/scikit-learn/scikit-learn/issues/21755 */display: inline-block !important;position: relative;}#sk-container-id-7 div.sk-text-repr-fallback {display: none;}</style><div id=\"sk-container-id-7\" class=\"sk-top-container\"><div class=\"sk-text-repr-fallback\"><pre>RandomForestClassifier(n_estimators=10)</pre><b>In a Jupyter environment, please rerun this cell to show the HTML representation or trust the notebook. <br />On GitHub, the HTML representation is unable to render, please try loading this page with nbviewer.org.</b></div><div class=\"sk-container\" hidden><div class=\"sk-item\"><div class=\"sk-estimator sk-toggleable\"><input class=\"sk-toggleable__control sk-hidden--visually\" id=\"sk-estimator-id-7\" type=\"checkbox\" checked><label for=\"sk-estimator-id-7\" class=\"sk-toggleable__label sk-toggleable__label-arrow\">RandomForestClassifier</label><div class=\"sk-toggleable__content\"><pre>RandomForestClassifier(n_estimators=10)</pre></div></div></div></div></div>"
      ],
      "text/plain": [
       "RandomForestClassifier(n_estimators=10)"
      ]
     },
     "execution_count": 82,
     "metadata": {},
     "output_type": "execute_result"
    }
   ],
   "source": [
    "# using gini to split\n",
    "RFclassifier= RandomForestClassifier(n_estimators= 10, criterion=\"gini\")  \n",
    "RFclassifier.fit(X_train, y_train)  "
   ]
  },
  {
   "cell_type": "code",
   "execution_count": 83,
   "id": "8eec490d",
   "metadata": {},
   "outputs": [
    {
     "name": "stdout",
     "output_type": "stream",
     "text": [
      "Train Result:\n",
      "================================================\n",
      "Accuracy Score: 98.79%\n",
      "_______________________________________________\n",
      "CLASSIFICATION REPORT:\n",
      "                     0           1  accuracy    macro avg  weighted avg\n",
      "precision     0.984432    1.000000  0.987857     0.992216      0.988046\n",
      "recall        1.000000    0.947692  0.987857     0.973846      0.987857\n",
      "f1-score      0.992155    0.973144  0.987857     0.982649      0.987742\n",
      "support    1075.000000  325.000000  0.987857  1400.000000   1400.000000\n",
      "_______________________________________________\n",
      "Confusion Matrix: \n",
      " [[1075    0]\n",
      " [  17  308]]\n",
      "\n",
      "Test Result:\n",
      "================================================\n",
      "Accuracy Score: 88.00%\n",
      "_______________________________________________\n",
      "CLASSIFICATION REPORT:\n",
      "                    0           1  accuracy   macro avg  weighted avg\n",
      "precision    0.879098    0.883929      0.88    0.881513      0.880370\n",
      "recall       0.970588    0.626582      0.88    0.798585      0.880000\n",
      "f1-score     0.922581    0.733333      0.88    0.827957      0.872746\n",
      "support    442.000000  158.000000      0.88  600.000000    600.000000\n",
      "_______________________________________________\n",
      "Confusion Matrix: \n",
      " [[429  13]\n",
      " [ 59  99]]\n",
      "\n"
     ]
    }
   ],
   "source": [
    "print_score(RFclassifier, X_train, y_train, X_test, y_test, train=True)\n",
    "print_score(RFclassifier, X_train, y_train, X_test, y_test, train=False)"
   ]
  },
  {
   "cell_type": "markdown",
   "id": "a242c3a6",
   "metadata": {},
   "source": [
    "### Using standard Scaler"
   ]
  },
  {
   "cell_type": "code",
   "execution_count": 84,
   "id": "6d206dd4",
   "metadata": {},
   "outputs": [
    {
     "name": "stdout",
     "output_type": "stream",
     "text": [
      "Train Result:\n",
      "================================================\n",
      "Accuracy Score: 98.86%\n",
      "_______________________________________________\n",
      "CLASSIFICATION REPORT:\n",
      "                     0           1  accuracy    macro avg  weighted avg\n",
      "precision     0.985335    1.000000  0.988571     0.992667      0.988739\n",
      "recall        1.000000    0.950769  0.988571     0.975385      0.988571\n",
      "f1-score      0.992613    0.974763  0.988571     0.983688      0.988469\n",
      "support    1075.000000  325.000000  0.988571  1400.000000   1400.000000\n",
      "_______________________________________________\n",
      "Confusion Matrix: \n",
      " [[1075    0]\n",
      " [  16  309]]\n",
      "\n",
      "Test Result:\n",
      "================================================\n",
      "Accuracy Score: 87.50%\n",
      "_______________________________________________\n",
      "CLASSIFICATION REPORT:\n",
      "                    0           1  accuracy   macro avg  weighted avg\n",
      "precision    0.873727    0.880734     0.875    0.877231      0.875572\n",
      "recall       0.970588    0.607595     0.875    0.789092      0.875000\n",
      "f1-score     0.919614    0.719101     0.875    0.819358      0.866812\n",
      "support    442.000000  158.000000     0.875  600.000000    600.000000\n",
      "_______________________________________________\n",
      "Confusion Matrix: \n",
      " [[429  13]\n",
      " [ 62  96]]\n",
      "\n"
     ]
    }
   ],
   "source": [
    "RFclassifier.fit(X_train_st, y_train) \n",
    "print_score(RFclassifier, X_train_st, y_train, X_test_st, y_test, train=True)\n",
    "print_score(RFclassifier, X_train_st, y_train, X_test_st, y_test, train=False)"
   ]
  },
  {
   "cell_type": "markdown",
   "id": "a31aab89",
   "metadata": {},
   "source": [
    "### Using MinMaxScaler"
   ]
  },
  {
   "cell_type": "code",
   "execution_count": 85,
   "id": "314ce1d2",
   "metadata": {},
   "outputs": [
    {
     "name": "stdout",
     "output_type": "stream",
     "text": [
      "Train Result:\n",
      "================================================\n",
      "Accuracy Score: 99.07%\n",
      "_______________________________________________\n",
      "CLASSIFICATION REPORT:\n",
      "                     0           1  accuracy    macro avg  weighted avg\n",
      "precision     0.988051    1.000000  0.990714     0.994026      0.990825\n",
      "recall        1.000000    0.960000  0.990714     0.980000      0.990714\n",
      "f1-score      0.993990    0.979592  0.990714     0.986791      0.990647\n",
      "support    1075.000000  325.000000  0.990714  1400.000000   1400.000000\n",
      "_______________________________________________\n",
      "Confusion Matrix: \n",
      " [[1075    0]\n",
      " [  13  312]]\n",
      "\n",
      "Test Result:\n",
      "================================================\n",
      "Accuracy Score: 88.50%\n",
      "_______________________________________________\n",
      "CLASSIFICATION REPORT:\n",
      "                    0           1  accuracy   macro avg  weighted avg\n",
      "precision    0.884536    0.886957     0.885    0.885746      0.885173\n",
      "recall       0.970588    0.645570     0.885    0.808079      0.885000\n",
      "f1-score     0.925566    0.747253     0.885    0.836410      0.878610\n",
      "support    442.000000  158.000000     0.885  600.000000    600.000000\n",
      "_______________________________________________\n",
      "Confusion Matrix: \n",
      " [[429  13]\n",
      " [ 56 102]]\n",
      "\n"
     ]
    }
   ],
   "source": [
    "RFclassifier.fit(X_train_MM, y_train) \n",
    "print_score(RFclassifier, X_train_MM, y_train, X_test_MM, y_test, train=True)\n",
    "print_score(RFclassifier, X_train_MM, y_train, X_test_MM, y_test, train=False)"
   ]
  },
  {
   "cell_type": "code",
   "execution_count": 86,
   "id": "7a760f84",
   "metadata": {},
   "outputs": [],
   "source": [
    "# the model is overfit as it shows good accuracy with training data but not with testing data"
   ]
  },
  {
   "cell_type": "markdown",
   "id": "7d51ca7a",
   "metadata": {},
   "source": [
    "## Using Entropy"
   ]
  },
  {
   "cell_type": "markdown",
   "id": "180818da",
   "metadata": {},
   "source": [
    "### Without using any scaling "
   ]
  },
  {
   "cell_type": "code",
   "execution_count": 87,
   "id": "d3460a21",
   "metadata": {},
   "outputs": [
    {
     "data": {
      "text/html": [
       "<style>#sk-container-id-8 {color: black;background-color: white;}#sk-container-id-8 pre{padding: 0;}#sk-container-id-8 div.sk-toggleable {background-color: white;}#sk-container-id-8 label.sk-toggleable__label {cursor: pointer;display: block;width: 100%;margin-bottom: 0;padding: 0.3em;box-sizing: border-box;text-align: center;}#sk-container-id-8 label.sk-toggleable__label-arrow:before {content: \"▸\";float: left;margin-right: 0.25em;color: #696969;}#sk-container-id-8 label.sk-toggleable__label-arrow:hover:before {color: black;}#sk-container-id-8 div.sk-estimator:hover label.sk-toggleable__label-arrow:before {color: black;}#sk-container-id-8 div.sk-toggleable__content {max-height: 0;max-width: 0;overflow: hidden;text-align: left;background-color: #f0f8ff;}#sk-container-id-8 div.sk-toggleable__content pre {margin: 0.2em;color: black;border-radius: 0.25em;background-color: #f0f8ff;}#sk-container-id-8 input.sk-toggleable__control:checked~div.sk-toggleable__content {max-height: 200px;max-width: 100%;overflow: auto;}#sk-container-id-8 input.sk-toggleable__control:checked~label.sk-toggleable__label-arrow:before {content: \"▾\";}#sk-container-id-8 div.sk-estimator input.sk-toggleable__control:checked~label.sk-toggleable__label {background-color: #d4ebff;}#sk-container-id-8 div.sk-label input.sk-toggleable__control:checked~label.sk-toggleable__label {background-color: #d4ebff;}#sk-container-id-8 input.sk-hidden--visually {border: 0;clip: rect(1px 1px 1px 1px);clip: rect(1px, 1px, 1px, 1px);height: 1px;margin: -1px;overflow: hidden;padding: 0;position: absolute;width: 1px;}#sk-container-id-8 div.sk-estimator {font-family: monospace;background-color: #f0f8ff;border: 1px dotted black;border-radius: 0.25em;box-sizing: border-box;margin-bottom: 0.5em;}#sk-container-id-8 div.sk-estimator:hover {background-color: #d4ebff;}#sk-container-id-8 div.sk-parallel-item::after {content: \"\";width: 100%;border-bottom: 1px solid gray;flex-grow: 1;}#sk-container-id-8 div.sk-label:hover label.sk-toggleable__label {background-color: #d4ebff;}#sk-container-id-8 div.sk-serial::before {content: \"\";position: absolute;border-left: 1px solid gray;box-sizing: border-box;top: 0;bottom: 0;left: 50%;z-index: 0;}#sk-container-id-8 div.sk-serial {display: flex;flex-direction: column;align-items: center;background-color: white;padding-right: 0.2em;padding-left: 0.2em;position: relative;}#sk-container-id-8 div.sk-item {position: relative;z-index: 1;}#sk-container-id-8 div.sk-parallel {display: flex;align-items: stretch;justify-content: center;background-color: white;position: relative;}#sk-container-id-8 div.sk-item::before, #sk-container-id-8 div.sk-parallel-item::before {content: \"\";position: absolute;border-left: 1px solid gray;box-sizing: border-box;top: 0;bottom: 0;left: 50%;z-index: -1;}#sk-container-id-8 div.sk-parallel-item {display: flex;flex-direction: column;z-index: 1;position: relative;background-color: white;}#sk-container-id-8 div.sk-parallel-item:first-child::after {align-self: flex-end;width: 50%;}#sk-container-id-8 div.sk-parallel-item:last-child::after {align-self: flex-start;width: 50%;}#sk-container-id-8 div.sk-parallel-item:only-child::after {width: 0;}#sk-container-id-8 div.sk-dashed-wrapped {border: 1px dashed gray;margin: 0 0.4em 0.5em 0.4em;box-sizing: border-box;padding-bottom: 0.4em;background-color: white;}#sk-container-id-8 div.sk-label label {font-family: monospace;font-weight: bold;display: inline-block;line-height: 1.2em;}#sk-container-id-8 div.sk-label-container {text-align: center;}#sk-container-id-8 div.sk-container {/* jupyter's `normalize.less` sets `[hidden] { display: none; }` but bootstrap.min.css set `[hidden] { display: none !important; }` so we also need the `!important` here to be able to override the default hidden behavior on the sphinx rendered scikit-learn.org. See: https://github.com/scikit-learn/scikit-learn/issues/21755 */display: inline-block !important;position: relative;}#sk-container-id-8 div.sk-text-repr-fallback {display: none;}</style><div id=\"sk-container-id-8\" class=\"sk-top-container\"><div class=\"sk-text-repr-fallback\"><pre>RandomForestClassifier(criterion=&#x27;entropy&#x27;, n_estimators=10)</pre><b>In a Jupyter environment, please rerun this cell to show the HTML representation or trust the notebook. <br />On GitHub, the HTML representation is unable to render, please try loading this page with nbviewer.org.</b></div><div class=\"sk-container\" hidden><div class=\"sk-item\"><div class=\"sk-estimator sk-toggleable\"><input class=\"sk-toggleable__control sk-hidden--visually\" id=\"sk-estimator-id-8\" type=\"checkbox\" checked><label for=\"sk-estimator-id-8\" class=\"sk-toggleable__label sk-toggleable__label-arrow\">RandomForestClassifier</label><div class=\"sk-toggleable__content\"><pre>RandomForestClassifier(criterion=&#x27;entropy&#x27;, n_estimators=10)</pre></div></div></div></div></div>"
      ],
      "text/plain": [
       "RandomForestClassifier(criterion='entropy', n_estimators=10)"
      ]
     },
     "execution_count": 87,
     "metadata": {},
     "output_type": "execute_result"
    }
   ],
   "source": [
    "# using entrpoy to split the tree\n",
    "RFEclassifier= RandomForestClassifier(n_estimators= 10, criterion=\"entropy\")  \n",
    "RFEclassifier.fit(X_train, y_train)  "
   ]
  },
  {
   "cell_type": "code",
   "execution_count": 88,
   "id": "96cabc7e",
   "metadata": {},
   "outputs": [
    {
     "name": "stdout",
     "output_type": "stream",
     "text": [
      "Train Result:\n",
      "================================================\n",
      "Accuracy Score: 99.00%\n",
      "_______________________________________________\n",
      "CLASSIFICATION REPORT:\n",
      "                     0           1  accuracy    macro avg  weighted avg\n",
      "precision     0.987144    1.000000      0.99     0.993572      0.990129\n",
      "recall        1.000000    0.956923      0.99     0.978462      0.990000\n",
      "f1-score      0.993530    0.977987      0.99     0.985759      0.989922\n",
      "support    1075.000000  325.000000      0.99  1400.000000   1400.000000\n",
      "_______________________________________________\n",
      "Confusion Matrix: \n",
      " [[1075    0]\n",
      " [  14  311]]\n",
      "\n",
      "Test Result:\n",
      "================================================\n",
      "Accuracy Score: 88.00%\n",
      "_______________________________________________\n",
      "CLASSIFICATION REPORT:\n",
      "                    0           1  accuracy   macro avg  weighted avg\n",
      "precision    0.883817    0.864407      0.88    0.874112      0.878706\n",
      "recall       0.963801    0.645570      0.88    0.804685      0.880000\n",
      "f1-score     0.922078    0.739130      0.88    0.830604      0.873902\n",
      "support    442.000000  158.000000      0.88  600.000000    600.000000\n",
      "_______________________________________________\n",
      "Confusion Matrix: \n",
      " [[426  16]\n",
      " [ 56 102]]\n",
      "\n"
     ]
    }
   ],
   "source": [
    "print_score(RFEclassifier, X_train, y_train, X_test, y_test, train=True)\n",
    "print_score(RFEclassifier, X_train, y_train, X_test, y_test, train=False)"
   ]
  },
  {
   "cell_type": "code",
   "execution_count": 89,
   "id": "e1958943",
   "metadata": {},
   "outputs": [],
   "source": [
    "# it shows similar results as with gini index therefore trying cross validation to train the data better to \n",
    "# overcome the problem of overfitting"
   ]
  },
  {
   "cell_type": "markdown",
   "id": "5e4a09dc",
   "metadata": {},
   "source": [
    "### Using Standard Scaler"
   ]
  },
  {
   "cell_type": "code",
   "execution_count": 90,
   "id": "4879543b",
   "metadata": {},
   "outputs": [
    {
     "name": "stdout",
     "output_type": "stream",
     "text": [
      "Train Result:\n",
      "================================================\n",
      "Accuracy Score: 99.00%\n",
      "_______________________________________________\n",
      "CLASSIFICATION REPORT:\n",
      "                     0           1  accuracy    macro avg  weighted avg\n",
      "precision     0.987144    1.000000      0.99     0.993572      0.990129\n",
      "recall        1.000000    0.956923      0.99     0.978462      0.990000\n",
      "f1-score      0.993530    0.977987      0.99     0.985759      0.989922\n",
      "support    1075.000000  325.000000      0.99  1400.000000   1400.000000\n",
      "_______________________________________________\n",
      "Confusion Matrix: \n",
      " [[1075    0]\n",
      " [  14  311]]\n",
      "\n",
      "Test Result:\n",
      "================================================\n",
      "Accuracy Score: 88.67%\n",
      "_______________________________________________\n",
      "CLASSIFICATION REPORT:\n",
      "                    0           1  accuracy   macro avg  weighted avg\n",
      "precision    0.891213    0.868852  0.886667    0.880033      0.885325\n",
      "recall       0.963801    0.670886  0.886667    0.817343      0.886667\n",
      "f1-score     0.926087    0.757143  0.886667    0.841615      0.881598\n",
      "support    442.000000  158.000000  0.886667  600.000000    600.000000\n",
      "_______________________________________________\n",
      "Confusion Matrix: \n",
      " [[426  16]\n",
      " [ 52 106]]\n",
      "\n"
     ]
    }
   ],
   "source": [
    "RFEclassifier.fit(X_train_st, y_train) \n",
    "print_score(RFEclassifier, X_train_st, y_train, X_test_st, y_test, train=True)\n",
    "print_score(RFEclassifier, X_train_st, y_train, X_test_st, y_test, train=False)"
   ]
  },
  {
   "cell_type": "markdown",
   "id": "32db93e4",
   "metadata": {},
   "source": [
    "### Using MinMaxScaler "
   ]
  },
  {
   "cell_type": "code",
   "execution_count": 91,
   "id": "f532dd12",
   "metadata": {},
   "outputs": [
    {
     "name": "stdout",
     "output_type": "stream",
     "text": [
      "Train Result:\n",
      "================================================\n",
      "Accuracy Score: 98.43%\n",
      "_______________________________________________\n",
      "CLASSIFICATION REPORT:\n",
      "                     0           1  accuracy    macro avg  weighted avg\n",
      "precision     0.980822    0.996721  0.984286     0.988772      0.984513\n",
      "recall        0.999070    0.935385  0.984286     0.967227      0.984286\n",
      "f1-score      0.989862    0.965079  0.984286     0.977471      0.984109\n",
      "support    1075.000000  325.000000  0.984286  1400.000000   1400.000000\n",
      "_______________________________________________\n",
      "Confusion Matrix: \n",
      " [[1074    1]\n",
      " [  21  304]]\n",
      "\n",
      "Test Result:\n",
      "================================================\n",
      "Accuracy Score: 89.00%\n",
      "_______________________________________________\n",
      "CLASSIFICATION REPORT:\n",
      "                    0           1  accuracy   macro avg  weighted avg\n",
      "precision    0.880567    0.933962      0.89    0.907265      0.894628\n",
      "recall       0.984163    0.626582      0.89    0.805373      0.890000\n",
      "f1-score     0.929487    0.750000      0.89    0.839744      0.882222\n",
      "support    442.000000  158.000000      0.89  600.000000    600.000000\n",
      "_______________________________________________\n",
      "Confusion Matrix: \n",
      " [[435   7]\n",
      " [ 59  99]]\n",
      "\n"
     ]
    }
   ],
   "source": [
    "RFEclassifier.fit(X_train_MM, y_train) \n",
    "print_score(RFEclassifier, X_train_MM, y_train, X_test_MM, y_test, train=True)\n",
    "print_score(RFEclassifier, X_train_MM, y_train, X_test_MM, y_test, train=False)"
   ]
  },
  {
   "cell_type": "code",
   "execution_count": 92,
   "id": "78af9c4d",
   "metadata": {},
   "outputs": [],
   "source": [
    "# for gini index\n",
    "cross_val_results_RF = cross_val_score(RFclassifier, X, y, cv=kf)"
   ]
  },
  {
   "cell_type": "code",
   "execution_count": 93,
   "id": "a8cbfc57",
   "metadata": {},
   "outputs": [
    {
     "name": "stdout",
     "output_type": "stream",
     "text": [
      "Cross-Validation Results (Accuracy): [0.885  0.91   0.9275 0.89   0.905 ]\n",
      "Mean Accuracy: 0.9035\n"
     ]
    }
   ],
   "source": [
    "print(f'Cross-Validation Results (Accuracy): {cross_val_results_RF}')\n",
    "print(f'Mean Accuracy: {cross_val_results_RF.mean()}')"
   ]
  },
  {
   "cell_type": "code",
   "execution_count": 94,
   "id": "d0f45bbd",
   "metadata": {},
   "outputs": [],
   "source": [
    "# for  entropy\n",
    "cross_val_results_RFE = cross_val_score(RFEclassifier, X, y, cv=kf)"
   ]
  },
  {
   "cell_type": "code",
   "execution_count": 95,
   "id": "ea81832b",
   "metadata": {},
   "outputs": [
    {
     "name": "stdout",
     "output_type": "stream",
     "text": [
      "Cross-Validation Results (Accuracy): [0.885  0.9125 0.9325 0.905  0.9125]\n",
      "Mean Accuracy: 0.9094999999999999\n"
     ]
    }
   ],
   "source": [
    "print(f'Cross-Validation Results (Accuracy): {cross_val_results_RFE}')\n",
    "print(f'Mean Accuracy: {cross_val_results_RFE.mean()}')"
   ]
  },
  {
   "cell_type": "code",
   "execution_count": 96,
   "id": "ec70603f",
   "metadata": {},
   "outputs": [],
   "source": [
    "# Random forest has also given the maximum accuracy of 79% which is not the best"
   ]
  },
  {
   "cell_type": "markdown",
   "id": "4400a0ab",
   "metadata": {},
   "source": [
    "# Suport Vector Machine"
   ]
  },
  {
   "cell_type": "markdown",
   "id": "a04fbe6f",
   "metadata": {},
   "source": [
    "### without using scaled features"
   ]
  },
  {
   "cell_type": "code",
   "execution_count": 97,
   "id": "7d68e4ac",
   "metadata": {},
   "outputs": [
    {
     "data": {
      "text/html": [
       "<style>#sk-container-id-9 {color: black;background-color: white;}#sk-container-id-9 pre{padding: 0;}#sk-container-id-9 div.sk-toggleable {background-color: white;}#sk-container-id-9 label.sk-toggleable__label {cursor: pointer;display: block;width: 100%;margin-bottom: 0;padding: 0.3em;box-sizing: border-box;text-align: center;}#sk-container-id-9 label.sk-toggleable__label-arrow:before {content: \"▸\";float: left;margin-right: 0.25em;color: #696969;}#sk-container-id-9 label.sk-toggleable__label-arrow:hover:before {color: black;}#sk-container-id-9 div.sk-estimator:hover label.sk-toggleable__label-arrow:before {color: black;}#sk-container-id-9 div.sk-toggleable__content {max-height: 0;max-width: 0;overflow: hidden;text-align: left;background-color: #f0f8ff;}#sk-container-id-9 div.sk-toggleable__content pre {margin: 0.2em;color: black;border-radius: 0.25em;background-color: #f0f8ff;}#sk-container-id-9 input.sk-toggleable__control:checked~div.sk-toggleable__content {max-height: 200px;max-width: 100%;overflow: auto;}#sk-container-id-9 input.sk-toggleable__control:checked~label.sk-toggleable__label-arrow:before {content: \"▾\";}#sk-container-id-9 div.sk-estimator input.sk-toggleable__control:checked~label.sk-toggleable__label {background-color: #d4ebff;}#sk-container-id-9 div.sk-label input.sk-toggleable__control:checked~label.sk-toggleable__label {background-color: #d4ebff;}#sk-container-id-9 input.sk-hidden--visually {border: 0;clip: rect(1px 1px 1px 1px);clip: rect(1px, 1px, 1px, 1px);height: 1px;margin: -1px;overflow: hidden;padding: 0;position: absolute;width: 1px;}#sk-container-id-9 div.sk-estimator {font-family: monospace;background-color: #f0f8ff;border: 1px dotted black;border-radius: 0.25em;box-sizing: border-box;margin-bottom: 0.5em;}#sk-container-id-9 div.sk-estimator:hover {background-color: #d4ebff;}#sk-container-id-9 div.sk-parallel-item::after {content: \"\";width: 100%;border-bottom: 1px solid gray;flex-grow: 1;}#sk-container-id-9 div.sk-label:hover label.sk-toggleable__label {background-color: #d4ebff;}#sk-container-id-9 div.sk-serial::before {content: \"\";position: absolute;border-left: 1px solid gray;box-sizing: border-box;top: 0;bottom: 0;left: 50%;z-index: 0;}#sk-container-id-9 div.sk-serial {display: flex;flex-direction: column;align-items: center;background-color: white;padding-right: 0.2em;padding-left: 0.2em;position: relative;}#sk-container-id-9 div.sk-item {position: relative;z-index: 1;}#sk-container-id-9 div.sk-parallel {display: flex;align-items: stretch;justify-content: center;background-color: white;position: relative;}#sk-container-id-9 div.sk-item::before, #sk-container-id-9 div.sk-parallel-item::before {content: \"\";position: absolute;border-left: 1px solid gray;box-sizing: border-box;top: 0;bottom: 0;left: 50%;z-index: -1;}#sk-container-id-9 div.sk-parallel-item {display: flex;flex-direction: column;z-index: 1;position: relative;background-color: white;}#sk-container-id-9 div.sk-parallel-item:first-child::after {align-self: flex-end;width: 50%;}#sk-container-id-9 div.sk-parallel-item:last-child::after {align-self: flex-start;width: 50%;}#sk-container-id-9 div.sk-parallel-item:only-child::after {width: 0;}#sk-container-id-9 div.sk-dashed-wrapped {border: 1px dashed gray;margin: 0 0.4em 0.5em 0.4em;box-sizing: border-box;padding-bottom: 0.4em;background-color: white;}#sk-container-id-9 div.sk-label label {font-family: monospace;font-weight: bold;display: inline-block;line-height: 1.2em;}#sk-container-id-9 div.sk-label-container {text-align: center;}#sk-container-id-9 div.sk-container {/* jupyter's `normalize.less` sets `[hidden] { display: none; }` but bootstrap.min.css set `[hidden] { display: none !important; }` so we also need the `!important` here to be able to override the default hidden behavior on the sphinx rendered scikit-learn.org. See: https://github.com/scikit-learn/scikit-learn/issues/21755 */display: inline-block !important;position: relative;}#sk-container-id-9 div.sk-text-repr-fallback {display: none;}</style><div id=\"sk-container-id-9\" class=\"sk-top-container\"><div class=\"sk-text-repr-fallback\"><pre>SVC(kernel=&#x27;linear&#x27;)</pre><b>In a Jupyter environment, please rerun this cell to show the HTML representation or trust the notebook. <br />On GitHub, the HTML representation is unable to render, please try loading this page with nbviewer.org.</b></div><div class=\"sk-container\" hidden><div class=\"sk-item\"><div class=\"sk-estimator sk-toggleable\"><input class=\"sk-toggleable__control sk-hidden--visually\" id=\"sk-estimator-id-9\" type=\"checkbox\" checked><label for=\"sk-estimator-id-9\" class=\"sk-toggleable__label sk-toggleable__label-arrow\">SVC</label><div class=\"sk-toggleable__content\"><pre>SVC(kernel=&#x27;linear&#x27;)</pre></div></div></div></div></div>"
      ],
      "text/plain": [
       "SVC(kernel='linear')"
      ]
     },
     "execution_count": 97,
     "metadata": {},
     "output_type": "execute_result"
    }
   ],
   "source": [
    "clfSVC = SVC(kernel='linear') \n",
    "clfSVC.fit(X_train, y_train) "
   ]
  },
  {
   "cell_type": "code",
   "execution_count": 98,
   "id": "687977f9",
   "metadata": {},
   "outputs": [
    {
     "name": "stdout",
     "output_type": "stream",
     "text": [
      "Train Result:\n",
      "================================================\n",
      "Accuracy Score: 90.07%\n",
      "_______________________________________________\n",
      "CLASSIFICATION REPORT:\n",
      "                     0           1  accuracy    macro avg  weighted avg\n",
      "precision     0.890000    0.965000  0.900714     0.927500      0.907411\n",
      "recall        0.993488    0.593846  0.900714     0.793667      0.900714\n",
      "f1-score      0.938901    0.735238  0.900714     0.837070      0.891622\n",
      "support    1075.000000  325.000000  0.900714  1400.000000   1400.000000\n",
      "_______________________________________________\n",
      "Confusion Matrix: \n",
      " [[1068    7]\n",
      " [ 132  193]]\n",
      "\n",
      "Test Result:\n",
      "================================================\n",
      "Accuracy Score: 88.33%\n",
      "_______________________________________________\n",
      "CLASSIFICATION REPORT:\n",
      "                    0           1  accuracy   macro avg  weighted avg\n",
      "precision    0.870518    0.948980  0.883333    0.909749      0.891179\n",
      "recall       0.988688    0.588608  0.883333    0.788648      0.883333\n",
      "f1-score     0.925847    0.726562  0.883333    0.826205      0.873369\n",
      "support    442.000000  158.000000  0.883333  600.000000    600.000000\n",
      "_______________________________________________\n",
      "Confusion Matrix: \n",
      " [[437   5]\n",
      " [ 65  93]]\n",
      "\n"
     ]
    }
   ],
   "source": [
    "print_score(clfSVC, X_train, y_train, X_test, y_test, train=True)\n",
    "print_score(clfSVC, X_train, y_train, X_test, y_test, train=False)"
   ]
  },
  {
   "cell_type": "markdown",
   "id": "41a48596",
   "metadata": {},
   "source": [
    "### Using Standard Scaler"
   ]
  },
  {
   "cell_type": "code",
   "execution_count": 99,
   "id": "f809ce79",
   "metadata": {},
   "outputs": [
    {
     "name": "stdout",
     "output_type": "stream",
     "text": [
      "Train Result:\n",
      "================================================\n",
      "Accuracy Score: 92.07%\n",
      "_______________________________________________\n",
      "CLASSIFICATION REPORT:\n",
      "                     0           1  accuracy    macro avg  weighted avg\n",
      "precision     0.908475    0.986364  0.920714     0.947419      0.926556\n",
      "recall        0.997209    0.667692  0.920714     0.832451      0.920714\n",
      "f1-score      0.950776    0.796330  0.920714     0.873553      0.914923\n",
      "support    1075.000000  325.000000  0.920714  1400.000000   1400.000000\n",
      "_______________________________________________\n",
      "Confusion Matrix: \n",
      " [[1072    3]\n",
      " [ 108  217]]\n",
      "\n",
      "Test Result:\n",
      "================================================\n",
      "Accuracy Score: 89.50%\n",
      "_______________________________________________\n",
      "CLASSIFICATION REPORT:\n",
      "                    0           1  accuracy   macro avg  weighted avg\n",
      "precision    0.882828    0.952381     0.895    0.917605      0.901144\n",
      "recall       0.988688    0.632911     0.895    0.810800      0.895000\n",
      "f1-score     0.932764    0.760456     0.895    0.846610      0.887390\n",
      "support    442.000000  158.000000     0.895  600.000000    600.000000\n",
      "_______________________________________________\n",
      "Confusion Matrix: \n",
      " [[437   5]\n",
      " [ 58 100]]\n",
      "\n"
     ]
    }
   ],
   "source": [
    "clfSVC.fit(X_train_st, y_train) \n",
    "print_score(clfSVC, X_train_st, y_train, X_test_st, y_test, train=True)\n",
    "print_score(clfSVC, X_train_st, y_train, X_test_st, y_test, train=False)"
   ]
  },
  {
   "cell_type": "markdown",
   "id": "0ae41911",
   "metadata": {},
   "source": [
    "### Using MinMaxScaler "
   ]
  },
  {
   "cell_type": "code",
   "execution_count": 100,
   "id": "0def2bef",
   "metadata": {},
   "outputs": [
    {
     "name": "stdout",
     "output_type": "stream",
     "text": [
      "Train Result:\n",
      "================================================\n",
      "Accuracy Score: 88.57%\n",
      "_______________________________________________\n",
      "CLASSIFICATION REPORT:\n",
      "                     0           1  accuracy    macro avg  weighted avg\n",
      "precision     0.871046    0.994012  0.885714     0.932529      0.899592\n",
      "recall        0.999070    0.510769  0.885714     0.754919      0.885714\n",
      "f1-score      0.930676    0.674797  0.885714     0.802736      0.871275\n",
      "support    1075.000000  325.000000  0.885714  1400.000000   1400.000000\n",
      "_______________________________________________\n",
      "Confusion Matrix: \n",
      " [[1074    1]\n",
      " [ 159  166]]\n",
      "\n",
      "Test Result:\n",
      "================================================\n",
      "Accuracy Score: 86.67%\n",
      "_______________________________________________\n",
      "CLASSIFICATION REPORT:\n",
      "                    0           1  accuracy   macro avg  weighted avg\n",
      "precision    0.846743    1.000000  0.866667    0.923372      0.887101\n",
      "recall       1.000000    0.493671  0.866667    0.746835      0.866667\n",
      "f1-score     0.917012    0.661017  0.866667    0.789015      0.849600\n",
      "support    442.000000  158.000000  0.866667  600.000000    600.000000\n",
      "_______________________________________________\n",
      "Confusion Matrix: \n",
      " [[442   0]\n",
      " [ 80  78]]\n",
      "\n"
     ]
    }
   ],
   "source": [
    "clfSVC.fit(X_train_MM, y_train) \n",
    "print_score(clfSVC, X_train_MM, y_train, X_test_MM, y_test, train=True)\n",
    "print_score(clfSVC, X_train_MM, y_train, X_test_MM, y_test, train=False)"
   ]
  },
  {
   "cell_type": "code",
   "execution_count": 101,
   "id": "d37c33b6",
   "metadata": {},
   "outputs": [],
   "source": [
    "# performing cross validation to train the data better\n",
    "cross_val_results_clfSVC = cross_val_score(clfSVC, X, y, cv=kf)"
   ]
  },
  {
   "cell_type": "code",
   "execution_count": 102,
   "id": "f6a6c051",
   "metadata": {},
   "outputs": [
    {
     "name": "stdout",
     "output_type": "stream",
     "text": [
      "Cross-Validation Results (Accuracy): [0.865  0.9025 0.91   0.8975 0.87  ]\n",
      "Mean Accuracy: 0.889\n"
     ]
    }
   ],
   "source": [
    "print(f'Cross-Validation Results (Accuracy): {cross_val_results_clfSVC}')\n",
    "print(f'Mean Accuracy: {cross_val_results_clfSVC.mean()}')"
   ]
  },
  {
   "cell_type": "markdown",
   "id": "6ceacf4b",
   "metadata": {},
   "source": [
    "# KNN"
   ]
  },
  {
   "cell_type": "markdown",
   "id": "6231fa42",
   "metadata": {},
   "source": [
    "### without using scaled features"
   ]
  },
  {
   "cell_type": "code",
   "execution_count": 103,
   "id": "026f02fc",
   "metadata": {},
   "outputs": [
    {
     "data": {
      "text/html": [
       "<style>#sk-container-id-10 {color: black;background-color: white;}#sk-container-id-10 pre{padding: 0;}#sk-container-id-10 div.sk-toggleable {background-color: white;}#sk-container-id-10 label.sk-toggleable__label {cursor: pointer;display: block;width: 100%;margin-bottom: 0;padding: 0.3em;box-sizing: border-box;text-align: center;}#sk-container-id-10 label.sk-toggleable__label-arrow:before {content: \"▸\";float: left;margin-right: 0.25em;color: #696969;}#sk-container-id-10 label.sk-toggleable__label-arrow:hover:before {color: black;}#sk-container-id-10 div.sk-estimator:hover label.sk-toggleable__label-arrow:before {color: black;}#sk-container-id-10 div.sk-toggleable__content {max-height: 0;max-width: 0;overflow: hidden;text-align: left;background-color: #f0f8ff;}#sk-container-id-10 div.sk-toggleable__content pre {margin: 0.2em;color: black;border-radius: 0.25em;background-color: #f0f8ff;}#sk-container-id-10 input.sk-toggleable__control:checked~div.sk-toggleable__content {max-height: 200px;max-width: 100%;overflow: auto;}#sk-container-id-10 input.sk-toggleable__control:checked~label.sk-toggleable__label-arrow:before {content: \"▾\";}#sk-container-id-10 div.sk-estimator input.sk-toggleable__control:checked~label.sk-toggleable__label {background-color: #d4ebff;}#sk-container-id-10 div.sk-label input.sk-toggleable__control:checked~label.sk-toggleable__label {background-color: #d4ebff;}#sk-container-id-10 input.sk-hidden--visually {border: 0;clip: rect(1px 1px 1px 1px);clip: rect(1px, 1px, 1px, 1px);height: 1px;margin: -1px;overflow: hidden;padding: 0;position: absolute;width: 1px;}#sk-container-id-10 div.sk-estimator {font-family: monospace;background-color: #f0f8ff;border: 1px dotted black;border-radius: 0.25em;box-sizing: border-box;margin-bottom: 0.5em;}#sk-container-id-10 div.sk-estimator:hover {background-color: #d4ebff;}#sk-container-id-10 div.sk-parallel-item::after {content: \"\";width: 100%;border-bottom: 1px solid gray;flex-grow: 1;}#sk-container-id-10 div.sk-label:hover label.sk-toggleable__label {background-color: #d4ebff;}#sk-container-id-10 div.sk-serial::before {content: \"\";position: absolute;border-left: 1px solid gray;box-sizing: border-box;top: 0;bottom: 0;left: 50%;z-index: 0;}#sk-container-id-10 div.sk-serial {display: flex;flex-direction: column;align-items: center;background-color: white;padding-right: 0.2em;padding-left: 0.2em;position: relative;}#sk-container-id-10 div.sk-item {position: relative;z-index: 1;}#sk-container-id-10 div.sk-parallel {display: flex;align-items: stretch;justify-content: center;background-color: white;position: relative;}#sk-container-id-10 div.sk-item::before, #sk-container-id-10 div.sk-parallel-item::before {content: \"\";position: absolute;border-left: 1px solid gray;box-sizing: border-box;top: 0;bottom: 0;left: 50%;z-index: -1;}#sk-container-id-10 div.sk-parallel-item {display: flex;flex-direction: column;z-index: 1;position: relative;background-color: white;}#sk-container-id-10 div.sk-parallel-item:first-child::after {align-self: flex-end;width: 50%;}#sk-container-id-10 div.sk-parallel-item:last-child::after {align-self: flex-start;width: 50%;}#sk-container-id-10 div.sk-parallel-item:only-child::after {width: 0;}#sk-container-id-10 div.sk-dashed-wrapped {border: 1px dashed gray;margin: 0 0.4em 0.5em 0.4em;box-sizing: border-box;padding-bottom: 0.4em;background-color: white;}#sk-container-id-10 div.sk-label label {font-family: monospace;font-weight: bold;display: inline-block;line-height: 1.2em;}#sk-container-id-10 div.sk-label-container {text-align: center;}#sk-container-id-10 div.sk-container {/* jupyter's `normalize.less` sets `[hidden] { display: none; }` but bootstrap.min.css set `[hidden] { display: none !important; }` so we also need the `!important` here to be able to override the default hidden behavior on the sphinx rendered scikit-learn.org. See: https://github.com/scikit-learn/scikit-learn/issues/21755 */display: inline-block !important;position: relative;}#sk-container-id-10 div.sk-text-repr-fallback {display: none;}</style><div id=\"sk-container-id-10\" class=\"sk-top-container\"><div class=\"sk-text-repr-fallback\"><pre>KNeighborsClassifier(n_neighbors=22)</pre><b>In a Jupyter environment, please rerun this cell to show the HTML representation or trust the notebook. <br />On GitHub, the HTML representation is unable to render, please try loading this page with nbviewer.org.</b></div><div class=\"sk-container\" hidden><div class=\"sk-item\"><div class=\"sk-estimator sk-toggleable\"><input class=\"sk-toggleable__control sk-hidden--visually\" id=\"sk-estimator-id-10\" type=\"checkbox\" checked><label for=\"sk-estimator-id-10\" class=\"sk-toggleable__label sk-toggleable__label-arrow\">KNeighborsClassifier</label><div class=\"sk-toggleable__content\"><pre>KNeighborsClassifier(n_neighbors=22)</pre></div></div></div></div></div>"
      ],
      "text/plain": [
       "KNeighborsClassifier(n_neighbors=22)"
      ]
     },
     "execution_count": 103,
     "metadata": {},
     "output_type": "execute_result"
    }
   ],
   "source": [
    "knn = KNeighborsClassifier(n_neighbors= int(math.sqrt(2000) / 2))\n",
    "knn.fit(X_train, y_train) "
   ]
  },
  {
   "cell_type": "code",
   "execution_count": 104,
   "id": "9e734d73",
   "metadata": {},
   "outputs": [
    {
     "name": "stdout",
     "output_type": "stream",
     "text": [
      "Train Result:\n",
      "================================================\n",
      "Accuracy Score: 76.86%\n",
      "_______________________________________________\n",
      "CLASSIFICATION REPORT:\n",
      "                     0           1  accuracy    macro avg  weighted avg\n",
      "precision     0.773091    0.520000  0.768571     0.646545      0.714338\n",
      "recall        0.988837    0.040000  0.768571     0.514419      0.768571\n",
      "f1-score      0.867755    0.074286  0.768571     0.471020      0.683557\n",
      "support    1075.000000  325.000000  0.768571  1400.000000   1400.000000\n",
      "_______________________________________________\n",
      "Confusion Matrix: \n",
      " [[1063   12]\n",
      " [ 312   13]]\n",
      "\n",
      "Test Result:\n",
      "================================================\n",
      "Accuracy Score: 73.33%\n",
      "_______________________________________________\n",
      "CLASSIFICATION REPORT:\n",
      "                    0           1  accuracy   macro avg  weighted avg\n",
      "precision    0.737374    0.333333  0.733333    0.535354      0.630976\n",
      "recall       0.990950    0.012658  0.733333    0.501804      0.733333\n",
      "f1-score     0.845560    0.024390  0.733333    0.434975      0.629319\n",
      "support    442.000000  158.000000  0.733333  600.000000    600.000000\n",
      "_______________________________________________\n",
      "Confusion Matrix: \n",
      " [[438   4]\n",
      " [156   2]]\n",
      "\n"
     ]
    }
   ],
   "source": [
    "print_score(knn, X_train, y_train, X_test, y_test, train=True)\n",
    "print_score(knn, X_train, y_train, X_test, y_test, train=False)"
   ]
  },
  {
   "cell_type": "markdown",
   "id": "09777669",
   "metadata": {},
   "source": [
    "### Using Standard Scaler"
   ]
  },
  {
   "cell_type": "code",
   "execution_count": 105,
   "id": "d1cbf389",
   "metadata": {},
   "outputs": [
    {
     "name": "stdout",
     "output_type": "stream",
     "text": [
      "Train Result:\n",
      "================================================\n",
      "Accuracy Score: 85.57%\n",
      "_______________________________________________\n",
      "CLASSIFICATION REPORT:\n",
      "                     0           1  accuracy    macro avg  weighted avg\n",
      "precision     0.841817    1.000000  0.855714     0.920908      0.878538\n",
      "recall        1.000000    0.378462  0.855714     0.689231      0.855714\n",
      "f1-score      0.914116    0.549107  0.855714     0.731611      0.829382\n",
      "support    1075.000000  325.000000  0.855714  1400.000000   1400.000000\n",
      "_______________________________________________\n",
      "Confusion Matrix: \n",
      " [[1075    0]\n",
      " [ 202  123]]\n",
      "\n",
      "Test Result:\n",
      "================================================\n",
      "Accuracy Score: 82.33%\n",
      "_______________________________________________\n",
      "CLASSIFICATION REPORT:\n",
      "                    0           1  accuracy   macro avg  weighted avg\n",
      "precision    0.806569    1.000000  0.823333    0.903285      0.857506\n",
      "recall       1.000000    0.329114  0.823333    0.664557      0.823333\n",
      "f1-score     0.892929    0.495238  0.823333    0.694084      0.788204\n",
      "support    442.000000  158.000000  0.823333  600.000000    600.000000\n",
      "_______________________________________________\n",
      "Confusion Matrix: \n",
      " [[442   0]\n",
      " [106  52]]\n",
      "\n"
     ]
    }
   ],
   "source": [
    "knn.fit(X_train_st, y_train) \n",
    "print_score(knn, X_train_st, y_train, X_test_st, y_test, train=True)\n",
    "print_score(knn, X_train_st, y_train, X_test_st, y_test, train=False)"
   ]
  },
  {
   "cell_type": "markdown",
   "id": "c5b60523",
   "metadata": {},
   "source": [
    "### Using MinMaxScaler "
   ]
  },
  {
   "cell_type": "code",
   "execution_count": 106,
   "id": "d69f5011",
   "metadata": {},
   "outputs": [
    {
     "name": "stdout",
     "output_type": "stream",
     "text": [
      "Train Result:\n",
      "================================================\n",
      "Accuracy Score: 78.86%\n",
      "_______________________________________________\n",
      "CLASSIFICATION REPORT:\n",
      "                     0           1  accuracy    macro avg  weighted avg\n",
      "precision     0.784514    0.967742  0.788571     0.876128      0.827049\n",
      "recall        0.999070    0.092308  0.788571     0.545689      0.788571\n",
      "f1-score      0.878887    0.168539  0.788571     0.523713      0.713985\n",
      "support    1075.000000  325.000000  0.788571  1400.000000   1400.000000\n",
      "_______________________________________________\n",
      "Confusion Matrix: \n",
      " [[1074    1]\n",
      " [ 295   30]]\n",
      "\n",
      "Test Result:\n",
      "================================================\n",
      "Accuracy Score: 76.33%\n",
      "_______________________________________________\n",
      "CLASSIFICATION REPORT:\n",
      "                    0           1  accuracy   macro avg  weighted avg\n",
      "precision    0.756849    1.000000  0.763333    0.878425      0.820879\n",
      "recall       1.000000    0.101266  0.763333    0.550633      0.763333\n",
      "f1-score     0.861598    0.183908  0.763333    0.522753      0.683140\n",
      "support    442.000000  158.000000  0.763333  600.000000    600.000000\n",
      "_______________________________________________\n",
      "Confusion Matrix: \n",
      " [[442   0]\n",
      " [142  16]]\n",
      "\n"
     ]
    }
   ],
   "source": [
    "knn.fit(X_train_MM, y_train) \n",
    "print_score(knn, X_train_MM, y_train, X_test_MM, y_test, train=True)\n",
    "print_score(knn, X_train_MM, y_train, X_test_MM, y_test, train=False)"
   ]
  },
  {
   "cell_type": "code",
   "execution_count": 107,
   "id": "44e23559",
   "metadata": {},
   "outputs": [],
   "source": [
    "# performing cross validation to train the data better\n",
    "cross_val_results_knn = cross_val_score(knn, X, y, cv=kf)"
   ]
  },
  {
   "cell_type": "code",
   "execution_count": 108,
   "id": "d14dead5",
   "metadata": {},
   "outputs": [
    {
     "name": "stdout",
     "output_type": "stream",
     "text": [
      "Cross-Validation Results (Accuracy): [0.72   0.7725 0.79   0.74   0.7575]\n",
      "Mean Accuracy: 0.756\n"
     ]
    }
   ],
   "source": [
    "print(f'Cross-Validation Results (Accuracy): {cross_val_results_knn}')\n",
    "print(f'Mean Accuracy: {cross_val_results_knn.mean()}')"
   ]
  },
  {
   "cell_type": "code",
   "execution_count": null,
   "id": "766724fa",
   "metadata": {},
   "outputs": [],
   "source": []
  },
  {
   "cell_type": "code",
   "execution_count": null,
   "id": "1f791c26",
   "metadata": {},
   "outputs": [],
   "source": []
  },
  {
   "cell_type": "code",
   "execution_count": null,
   "id": "641864d6",
   "metadata": {},
   "outputs": [],
   "source": []
  }
 ],
 "metadata": {
  "kernelspec": {
   "display_name": "Python 3 (ipykernel)",
   "language": "python",
   "name": "python3"
  },
  "language_info": {
   "codemirror_mode": {
    "name": "ipython",
    "version": 3
   },
   "file_extension": ".py",
   "mimetype": "text/x-python",
   "name": "python",
   "nbconvert_exporter": "python",
   "pygments_lexer": "ipython3",
   "version": "3.11.3"
  }
 },
 "nbformat": 4,
 "nbformat_minor": 5
}
